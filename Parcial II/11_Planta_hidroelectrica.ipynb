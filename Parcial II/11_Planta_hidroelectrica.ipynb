{
 "cells": [
  {
   "cell_type": "markdown",
   "metadata": {},
   "source": [
    "#### Planta hidroelectrica"
   ]
  },
  {
   "cell_type": "markdown",
   "metadata": {},
   "source": [
    "Una planta hidroeléctrica opera con un caudal promedio de 5 $\\frac{m^3}{s}$. En epoca de estiage este caudal puede resucirse hasta 2.7 $\\frac{m^3}{s}$. Considerando que la caída es de 50 m y la turbina tiene una capacidad de operación de 180 rpm, un torque de $1.16 \\times10^5$ $N\\cdot m$  el generador tiene una capacidad de 2100 kW. Determine: \n",
    "1. Si los rangos operativos sustentan el generador\n",
    "2. La cantidad de energeia que se pierde y podria indicar cambios en el dimensionamiento de la turbina\n",
    "3. La probabilidad de que el generador opere por debajo de su capacidad"
   ]
  },
  {
   "cell_type": "markdown",
   "metadata": {},
   "source": [
    "##### Solución "
   ]
  },
  {
   "cell_type": "markdown",
   "metadata": {},
   "source": [
    "Paqueterias utilizadas"
   ]
  },
  {
   "cell_type": "code",
   "execution_count": 1,
   "metadata": {},
   "outputs": [],
   "source": [
    "using PyPlot, Distributions, Random"
   ]
  },
  {
   "cell_type": "markdown",
   "metadata": {},
   "source": [
    "Datos proporcionados"
   ]
  },
  {
   "cell_type": "code",
   "execution_count": 2,
   "metadata": {},
   "outputs": [
    {
     "data": {
      "text/plain": [
       "9.81"
      ]
     },
     "execution_count": 2,
     "metadata": {},
     "output_type": "execute_result"
    }
   ],
   "source": [
    "Q_max = 5.0 # m^3/s\n",
    "Q_min = 2.7 # m^3/s\n",
    "h = 50.0 # m\n",
    "rpm_turb = 180.0 # rpm \n",
    "τ = 1.16e5 # N*m\n",
    "W_gen = 2100.0 # kW\n",
    "ρ = 1000.0 # kg/m^3\n",
    "g = 9.81 #m/s^2"
   ]
  },
  {
   "cell_type": "markdown",
   "metadata": {},
   "source": [
    "Generamos datos aleatorios usando una distribución uniforme que abarque los rangos de $Q_{min}$ y $Q_{máx}$"
   ]
  },
  {
   "cell_type": "code",
   "execution_count": 3,
   "metadata": {},
   "outputs": [
    {
     "data": {
      "text/plain": [
       "1000-element Vector{Float64}:\n",
       " 4.98821707676885\n",
       " 3.512701178995382\n",
       " 3.3477267613072548\n",
       " 3.2859254066720442\n",
       " 4.178807069132514\n",
       " 4.462166168194655\n",
       " 3.192999730690079\n",
       " 3.8439045818452255\n",
       " 2.700520655315575\n",
       " 3.6236477740656863\n",
       " 3.1208703631094457\n",
       " 2.7270795014711178\n",
       " 3.9049223906265667\n",
       " ⋮\n",
       " 4.478041458516442\n",
       " 4.6155053438825675\n",
       " 3.440480543682694\n",
       " 4.3522526429401225\n",
       " 4.643170487637951\n",
       " 4.561833728695015\n",
       " 3.878777554934686\n",
       " 3.3832538326518886\n",
       " 3.62593696943979\n",
       " 3.387484059750604\n",
       " 3.6929095024248273\n",
       " 2.726920872711451"
      ]
     },
     "execution_count": 3,
     "metadata": {},
     "output_type": "execute_result"
    }
   ],
   "source": [
    "D = Uniform(Q_min, Q_max)\n",
    "Q = rand(D, 1000)"
   ]
  },
  {
   "cell_type": "markdown",
   "metadata": {},
   "source": [
    "Creamos vectores vacios donde se guardaran cada dato calculado"
   ]
  },
  {
   "cell_type": "code",
   "execution_count": 4,
   "metadata": {},
   "outputs": [
    {
     "data": {
      "text/plain": [
       "Any[]"
      ]
     },
     "execution_count": 4,
     "metadata": {},
     "output_type": "execute_result"
    }
   ],
   "source": [
    "W_turb = [] # Potencia de la turbina \n",
    "rpm_obt = [] # rpm generada en la turbina\n",
    "W_perdida = [] # Potencia que la turbina no aprovecha\n",
    "W_gen_max = [] # Limite de energia del generador\n",
    "Q_excedente = [] # Caudales a los cuales se suministra más suficient energia al generador\n",
    "W_excedente = [] # Energia excedente del generado"
   ]
  },
  {
   "cell_type": "markdown",
   "metadata": {},
   "source": [
    "Con un ciclo realizamos el cálculo para cada valor de caudal contenido en nuestro vector $Q$. El ciclo interno realiza la comparación de la energia perdida para cada caudal, lo agrega en el vector correspondiente e imprime la cantidad de energia perdida. La ultima instrucción nos permite generar el limite de potencia que el generador puede aceptar. "
   ]
  },
  {
   "cell_type": "code",
   "execution_count": 5,
   "metadata": {},
   "outputs": [
    {
     "name": "stdout",
     "output_type": "stream",
     "text": [
      "Cantidad de energia perdida en el caudal [1] de 4.9882 m^3/s = 346.7205 kW\n",
      "Cantidad de energia perdida en el caudal [6] de 4.4622 m^3/s = 88.6925 kW\n",
      "Cantidad de energia perdida en el caudal [17] de 4.9424 m^3/s = 324.2472 kW\n",
      "Cantidad de energia perdida en el caudal [20] de 4.7982 m^3/s = 253.52 kW\n",
      "Cantidad de energia perdida en el caudal [28] de 4.6316 m^3/s = 171.8161 kW\n",
      "Cantidad de energia perdida en el caudal [30] de 4.4994 m^3/s = 106.9569 kW\n",
      "Cantidad de energia perdida en el caudal [31] de 4.8388 m^3/s = 273.4246 kW\n",
      "Cantidad de energia perdida en el caudal [32] de 4.5195 m^3/s = 116.7914 kW\n",
      "Cantidad de energia perdida en el caudal [36] de 4.5777 m^3/s = 145.3722 kW\n",
      "Cantidad de energia perdida en el caudal [38] de 4.3384 m^3/s = 27.9923 kW\n",
      "Cantidad de energia perdida en el caudal [42] de 4.7733 m^3/s = 241.3025 kW\n",
      "Cantidad de energia perdida en el caudal [50] de 4.9199 m^3/s = 313.2322 kW\n",
      "Cantidad de energia perdida en el caudal [51] de 4.7605 m^3/s = 235.0233 kW\n",
      "Cantidad de energia perdida en el caudal [52] de 4.842 m^3/s = 275.0233 kW\n",
      "Cantidad de energia perdida en el caudal [54] de 4.7325 m^3/s = 221.298 kW\n",
      "Cantidad de energia perdida en el caudal [56] de 4.2915 m^3/s = 4.9624 kW\n",
      "Cantidad de energia perdida en el caudal [57] de 4.6391 m^3/s = 175.4612 kW\n",
      "Cantidad de energia perdida en el caudal [63] de 4.7354 m^3/s = 222.7022 kW\n",
      "Cantidad de energia perdida en el caudal [70] de 4.7676 m^3/s = 238.526 kW\n",
      "Cantidad de energia perdida en el caudal [76] de 4.9003 m^3/s = 303.5979 kW\n",
      "Cantidad de energia perdida en el caudal [85] de 4.6761 m^3/s = 193.6049 kW\n",
      "Cantidad de energia perdida en el caudal [92] de 4.758 m^3/s = 233.8036 kW\n",
      "Cantidad de energia perdida en el caudal [93] de 4.7678 m^3/s = 238.6 kW\n",
      "Cantidad de energia perdida en el caudal [98] de 4.6962 m^3/s = 203.4781 kW\n",
      "Cantidad de energia perdida en el caudal [102] de 4.8851 m^3/s = 296.1197 kW\n",
      "Cantidad de energia perdida en el caudal [106] de 4.8165 m^3/s = 262.5134 kW\n",
      "Cantidad de energia perdida en el caudal [109] de 4.3382 m^3/s = 27.8973 kW\n",
      "Cantidad de energia perdida en el caudal [111] de 4.647 m^3/s = 179.3481 kW\n",
      "Cantidad de energia perdida en el caudal [112] de 4.8139 m^3/s = 261.2404 kW\n",
      "Cantidad de energia perdida en el caudal [117] de 4.709 m^3/s = 209.7441 kW\n",
      "Cantidad de energia perdida en el caudal [121] de 4.7153 m^3/s = 212.8766 kW\n",
      "Cantidad de energia perdida en el caudal [132] de 4.5414 m^3/s = 127.5339 kW\n",
      "Cantidad de energia perdida en el caudal [134] de 4.632 m^3/s = 172.0009 kW\n",
      "Cantidad de energia perdida en el caudal [135] de 4.7963 m^3/s = 252.5772 kW\n",
      "Cantidad de energia perdida en el caudal [141] de 4.4603 m^3/s = 87.7894 kW\n",
      "Cantidad de energia perdida en el caudal [147] de 4.4803 m^3/s = 97.579 kW\n",
      "Cantidad de energia perdida en el caudal [152] de 4.969 m^3/s = 337.2962 kW\n",
      "Cantidad de energia perdida en el caudal [155] de 4.7591 m^3/s = 234.3581 kW\n",
      "Cantidad de energia perdida en el caudal [156] de 4.81 m^3/s = 259.3171 kW\n",
      "Cantidad de energia perdida en el caudal [157] de 4.5062 m^3/s = 110.2747 kW\n",
      "Cantidad de energia perdida en el caudal [158] de 4.8771 m^3/s = 292.2317 kW\n",
      "Cantidad de energia perdida en el caudal [164] de 4.5364 m^3/s = 125.0879 kW\n",
      "Cantidad de energia perdida en el caudal [165] de 4.2931 m^3/s = 5.7772 kW\n",
      "Cantidad de energia perdida en el caudal [166] de 4.5138 m^3/s = 114.0238 kW\n",
      "Cantidad de energia perdida en el caudal [168] de 4.667 m^3/s = 189.1605 kW\n",
      "Cantidad de energia perdida en el caudal [172] de 4.8891 m^3/s = 298.0806 kW\n",
      "Cantidad de energia perdida en el caudal [175] de 4.4521 m^3/s = 83.7539 kW\n",
      "Cantidad de energia perdida en el caudal [176] de 4.3367 m^3/s = 27.1587 kW\n",
      "Cantidad de energia perdida en el caudal [177] de 4.4235 m^3/s = 69.7486 kW\n",
      "Cantidad de energia perdida en el caudal [180] de 4.4427 m^3/s = 79.1666 kW\n",
      "Cantidad de energia perdida en el caudal [183] de 4.2816 m^3/s = 0.1204 kW\n",
      "Cantidad de energia perdida en el caudal [184] de 4.8215 m^3/s = 264.9455 kW\n",
      "Cantidad de energia perdida en el caudal [185] de 4.7582 m^3/s = 233.914 kW\n",
      "Cantidad de energia perdida en el caudal [186] de 4.3147 m^3/s = 16.383 kW\n",
      "Cantidad de energia perdida en el caudal [187] de 4.4327 m^3/s = 74.2627 kW\n",
      "Cantidad de energia perdida en el caudal [188] de 4.7086 m^3/s = 209.5536 kW\n",
      "Cantidad de energia perdida en el caudal [189] de 4.4883 m^3/s = 101.4867 kW\n",
      "Cantidad de energia perdida en el caudal [190] de 4.7398 m^3/s = 224.8701 kW\n",
      "Cantidad de energia perdida en el caudal [196] de 4.8248 m^3/s = 266.5836 kW\n",
      "Cantidad de energia perdida en el caudal [197] de 4.9847 m^3/s = 344.9922 kW\n",
      "Cantidad de energia perdida en el caudal [198] de 4.2978 m^3/s = 8.0916 kW\n",
      "Cantidad de energia perdida en el caudal [200] de 4.566 m^3/s = 139.6407 kW\n",
      "Cantidad de energia perdida en el caudal [201] de 4.7878 m^3/s = 248.3959 kW\n",
      "Cantidad de energia perdida en el caudal [209] de 4.9841 m^3/s = 344.7203 kW\n",
      "Cantidad de energia perdida en el caudal [210] de 4.3633 m^3/s = 40.1765 kW\n",
      "Cantidad de energia perdida en el caudal [215] de 4.5238 m^3/s = 118.9341 kW\n",
      "Cantidad de energia perdida en el caudal [217] de 4.8609 m^3/s = 284.2527 kW\n",
      "Cantidad de energia perdida en el caudal [218] de 4.8909 m^3/s = 298.9736 kW\n",
      "Cantidad de energia perdida en el caudal [219] de 4.9554 m^3/s = 330.6338 kW\n",
      "Cantidad de energia perdida en el caudal [221] de 4.4106 m^3/s = 63.383 kW\n",
      "Cantidad de energia perdida en el caudal [227] de 4.6552 m^3/s = 183.3924 kW\n",
      "Cantidad de energia perdida en el caudal [233] de 4.5698 m^3/s = 141.4708 kW\n",
      "Cantidad de energia perdida en el caudal [234] de 4.5605 m^3/s = 136.9239 kW\n",
      "Cantidad de energia perdida en el caudal [241] de 4.9442 m^3/s = 325.1534 kW\n",
      "Cantidad de energia perdida en el caudal [248] de 4.8084 m^3/s = 258.4996 kW\n",
      "Cantidad de energia perdida en el caudal [251] de 4.3482 m^3/s = 32.8044 kW\n",
      "Cantidad de energia perdida en el caudal [252] de 4.7284 m^3/s = 219.266 kW\n",
      "Cantidad de energia perdida en el caudal [255] de 4.3045 m^3/s = 11.3724 kW\n",
      "Cantidad de energia perdida en el caudal [257] de 4.939 m^3/s = 322.5877 kW\n",
      "Cantidad de energia perdida en el caudal [263] de 4.6766 m^3/s = 193.8565 kW\n",
      "Cantidad de energia perdida en el caudal [270] de 4.3227 m^3/s = 20.2999 kW\n",
      "Cantidad de energia perdida en el caudal [273] de 4.6258 m^3/s = 168.9649 kW\n",
      "Cantidad de energia perdida en el caudal [274] de 4.7049 m^3/s = 207.771 kW\n",
      "Cantidad de energia perdida en el caudal [276] de 4.8885 m^3/s = 297.8005 kW\n",
      "Cantidad de energia perdida en el caudal [284] de 4.3228 m^3/s = 20.3309 kW\n",
      "Cantidad de energia perdida en el caudal [286] de 4.4503 m^3/s = 82.8497 kW\n",
      "Cantidad de energia perdida en el caudal [294] de 4.615 m^3/s = 163.6331 kW\n",
      "Cantidad de energia perdida en el caudal [305] de 4.8705 m^3/s = 288.9995 kW\n",
      "Cantidad de energia perdida en el caudal [311] de 4.442 m^3/s = 78.7802 kW\n",
      "Cantidad de energia perdida en el caudal [317] de 4.8432 m^3/s = 275.5962 kW\n",
      "Cantidad de energia perdida en el caudal [320] de 4.5608 m^3/s = 137.0534 kW\n",
      "Cantidad de energia perdida en el caudal [322] de 4.7638 m^3/s = 236.656 kW\n",
      "Cantidad de energia perdida en el caudal [323] de 4.3818 m^3/s = 49.2508 kW\n",
      "Cantidad de energia perdida en el caudal [328] de 4.2891 m^3/s = 3.7916 kW\n",
      "Cantidad de energia perdida en el caudal [329] de 4.4044 m^3/s = 60.3367 kW\n",
      "Cantidad de energia perdida en el caudal [332] de 4.7813 m^3/s = 245.2368 kW\n",
      "Cantidad de energia perdida en el caudal [336] de 4.694 m^3/s = 202.3895 kW\n",
      "Cantidad de energia perdida en el caudal [338] de 4.3665 m^3/s = 41.7753 kW\n",
      "Cantidad de energia perdida en el caudal [339] de 4.3263 m^3/s = 22.0626 kW\n",
      "Cantidad de energia perdida en el caudal [341] de 4.9847 m^3/s = 344.9951 kW\n",
      "Cantidad de energia perdida en el caudal [342] de 4.4525 m^3/s = 83.943 kW\n",
      "Cantidad de energia perdida en el caudal [344] de 4.745 m^3/s = 227.4189 kW\n",
      "Cantidad de energia perdida en el caudal [346] de 4.7963 m^3/s = 252.5728 kW\n",
      "Cantidad de energia perdida en el caudal [351] de 4.8132 m^3/s = 260.8667 kW\n",
      "Cantidad de energia perdida en el caudal [354] de 4.3107 m^3/s = 14.3804 kW\n",
      "Cantidad de energia perdida en el caudal [355] de 4.7532 m^3/s = 231.4583 kW\n",
      "Cantidad de energia perdida en el caudal [359] de 4.3893 m^3/s = 52.9544 kW\n",
      "Cantidad de energia perdida en el caudal [365] de 4.4265 m^3/s = 71.2065 kW\n",
      "Cantidad de energia perdida en el caudal [368] de 4.5302 m^3/s = 122.0804 kW\n",
      "Cantidad de energia perdida en el caudal [370] de 4.5008 m^3/s = 107.6594 kW\n",
      "Cantidad de energia perdida en el caudal [371] de 4.5475 m^3/s = 130.551 kW\n",
      "Cantidad de energia perdida en el caudal [381] de 4.8387 m^3/s = 273.3726 kW\n",
      "Cantidad de energia perdida en el caudal [389] de 4.9408 m^3/s = 323.4516 kW\n",
      "Cantidad de energia perdida en el caudal [394] de 4.5124 m^3/s = 113.3135 kW\n",
      "Cantidad de energia perdida en el caudal [395] de 4.6531 m^3/s = 182.3637 kW\n",
      "Cantidad de energia perdida en el caudal [396] de 4.6593 m^3/s = 185.4068 kW\n",
      "Cantidad de energia perdida en el caudal [397] de 4.4429 m^3/s = 79.2323 kW\n",
      "Cantidad de energia perdida en el caudal [398] de 4.9047 m^3/s = 305.7552 kW\n",
      "Cantidad de energia perdida en el caudal [399] de 4.8612 m^3/s = 284.443 kW\n",
      "Cantidad de energia perdida en el caudal [403] de 4.5843 m^3/s = 148.6024 kW\n",
      "Cantidad de energia perdida en el caudal [406] de 4.5906 m^3/s = 151.6692 kW\n",
      "Cantidad de energia perdida en el caudal [408] de 4.4742 m^3/s = 94.612 kW\n",
      "Cantidad de energia perdida en el caudal [411] de 4.9878 m^3/s = 346.5029 kW\n",
      "Cantidad de energia perdida en el caudal [415] de 4.8176 m^3/s = 263.0179 kW\n",
      "Cantidad de energia perdida en el caudal [426] de 4.9034 m^3/s = 305.1237 kW\n",
      "Cantidad de energia perdida en el caudal [428] de 4.5965 m^3/s = 154.5627 kW\n",
      "Cantidad de energia perdida en el caudal [432] de 4.8787 m^3/s = 292.9911 kW\n",
      "Cantidad de energia perdida en el caudal [436] de 4.4135 m^3/s = 64.8405 kW\n",
      "Cantidad de energia perdida en el caudal [454] de 4.9592 m^3/s = 332.5033 kW\n",
      "Cantidad de energia perdida en el caudal [456] de 4.7781 m^3/s = 243.6665 kW\n",
      "Cantidad de energia perdida en el caudal [461] de 4.6413 m^3/s = 176.5595 kW\n",
      "Cantidad de energia perdida en el caudal [464] de 4.8455 m^3/s = 276.7235 kW\n",
      "Cantidad de energia perdida en el caudal [474] de 4.4301 m^3/s = 72.9397 kW\n",
      "Cantidad de energia perdida en el caudal [477] de 4.5488 m^3/s = 131.1886 kW\n",
      "Cantidad de energia perdida en el caudal [478] de 4.2952 m^3/s = 6.8038 kW\n",
      "Cantidad de energia perdida en el caudal [484] de 4.2874 m^3/s = 2.9717 kW\n",
      "Cantidad de energia perdida en el caudal [486] de 4.5788 m^3/s = 145.8936 kW\n",
      "Cantidad de energia perdida en el caudal [487] de 4.6271 m^3/s = 169.6072 kW\n",
      "Cantidad de energia perdida en el caudal [488] de 4.5403 m^3/s = 127.0215 kW\n",
      "Cantidad de energia perdida en el caudal [490] de 4.9923 m^3/s = 348.7378 kW\n",
      "Cantidad de energia perdida en el caudal [493] de 4.3816 m^3/s = 49.159 kW\n",
      "Cantidad de energia perdida en el caudal [497] de 4.6919 m^3/s = 201.3657 kW\n",
      "Cantidad de energia perdida en el caudal [498] de 4.653 m^3/s = 182.3064 kW\n",
      "Cantidad de energia perdida en el caudal [505] de 4.9477 m^3/s = 326.8366 kW\n",
      "Cantidad de energia perdida en el caudal [510] de 4.9095 m^3/s = 308.105 kW\n",
      "Cantidad de energia perdida en el caudal [511] de 4.5368 m^3/s = 125.2864 kW\n",
      "Cantidad de energia perdida en el caudal [518] de 4.5002 m^3/s = 107.372 kW\n",
      "Cantidad de energia perdida en el caudal [521] de 4.5602 m^3/s = 136.7939 kW\n",
      "Cantidad de energia perdida en el caudal [523] de 4.3593 m^3/s = 38.2392 kW\n",
      "Cantidad de energia perdida en el caudal [525] de 4.9615 m^3/s = 333.5968 kW\n",
      "Cantidad de energia perdida en el caudal [526] de 4.3866 m^3/s = 51.6495 kW\n",
      "Cantidad de energia perdida en el caudal [529] de 4.5824 m^3/s = 147.6729 kW\n",
      "Cantidad de energia perdida en el caudal [541] de 4.4007 m^3/s = 58.5273 kW\n",
      "Cantidad de energia perdida en el caudal [543] de 4.2923 m^3/s = 5.3763 kW\n",
      "Cantidad de energia perdida en el caudal [544] de 4.9669 m^3/s = 336.2547 kW\n",
      "Cantidad de energia perdida en el caudal [547] de 4.4201 m^3/s = 68.0785 kW\n",
      "Cantidad de energia perdida en el caudal [549] de 4.7845 m^3/s = 246.78 kW\n",
      "Cantidad de energia perdida en el caudal [551] de 4.6851 m^3/s = 198.0625 kW\n",
      "Cantidad de energia perdida en el caudal [552] de 4.4507 m^3/s = 83.0574 kW\n",
      "Cantidad de energia perdida en el caudal [553] de 4.8833 m^3/s = 295.2804 kW\n",
      "Cantidad de energia perdida en el caudal [557] de 4.3077 m^3/s = 12.9455 kW\n",
      "Cantidad de energia perdida en el caudal [561] de 4.337 m^3/s = 27.323 kW\n",
      "Cantidad de energia perdida en el caudal [562] de 4.8159 m^3/s = 262.2076 kW\n",
      "Cantidad de energia perdida en el caudal [566] de 4.8255 m^3/s = 266.9059 kW\n",
      "Cantidad de energia perdida en el caudal [568] de 4.7761 m^3/s = 242.677 kW\n",
      "Cantidad de energia perdida en el caudal [570] de 4.5183 m^3/s = 116.2317 kW\n",
      "Cantidad de energia perdida en el caudal [571] de 4.782 m^3/s = 245.5834 kW\n",
      "Cantidad de energia perdida en el caudal [579] de 4.8309 m^3/s = 269.5408 kW\n",
      "Cantidad de energia perdida en el caudal [581] de 4.9082 m^3/s = 307.4834 kW\n",
      "Cantidad de energia perdida en el caudal [590] de 4.9681 m^3/s = 336.8389 kW\n",
      "Cantidad de energia perdida en el caudal [595] de 4.8315 m^3/s = 269.8274 kW\n",
      "Cantidad de energia perdida en el caudal [598] de 4.9041 m^3/s = 305.4437 kW\n",
      "Cantidad de energia perdida en el caudal [601] de 4.5765 m^3/s = 144.7506 kW\n",
      "Cantidad de energia perdida en el caudal [603] de 4.9148 m^3/s = 310.6871 kW\n",
      "Cantidad de energia perdida en el caudal [609] de 4.7745 m^3/s = 241.8871 kW\n",
      "Cantidad de energia perdida en el caudal [612] de 4.3669 m^3/s = 41.9569 kW\n",
      "Cantidad de energia perdida en el caudal [615] de 4.4224 m^3/s = 69.1843 kW\n",
      "Cantidad de energia perdida en el caudal [617] de 4.5583 m^3/s = 135.8551 kW\n",
      "Cantidad de energia perdida en el caudal [623] de 4.669 m^3/s = 190.1548 kW\n",
      "Cantidad de energia perdida en el caudal [625] de 4.5344 m^3/s = 124.1236 kW\n",
      "Cantidad de energia perdida en el caudal [636] de 4.8571 m^3/s = 282.406 kW\n",
      "Cantidad de energia perdida en el caudal [638] de 4.4535 m^3/s = 84.4435 kW\n",
      "Cantidad de energia perdida en el caudal [639] de 4.4666 m^3/s = 90.8497 kW\n",
      "Cantidad de energia perdida en el caudal [642] de 4.6489 m^3/s = 180.2961 kW\n",
      "Cantidad de energia perdida en el caudal [643] de 4.858 m^3/s = 282.8398 kW\n",
      "Cantidad de energia perdida en el caudal [646] de 4.6705 m^3/s = 190.8697 kW\n",
      "Cantidad de energia perdida en el caudal [647] de 4.416 m^3/s = 66.0317 kW\n",
      "Cantidad de energia perdida en el caudal [648] de 4.4714 m^3/s = 93.2135 kW\n",
      "Cantidad de energia perdida en el caudal [649] de 4.4383 m^3/s = 76.9715 kW\n",
      "Cantidad de energia perdida en el caudal [655] de 4.2887 m^3/s = 3.5832 kW\n",
      "Cantidad de energia perdida en el caudal [661] de 4.7162 m^3/s = 213.2784 kW\n",
      "Cantidad de energia perdida en el caudal [662] de 4.8271 m^3/s = 267.6907 kW\n",
      "Cantidad de energia perdida en el caudal [663] de 4.7477 m^3/s = 228.7572 kW\n",
      "Cantidad de energia perdida en el caudal [664] de 4.6386 m^3/s = 175.2424 kW\n",
      "Cantidad de energia perdida en el caudal [666] de 4.7072 m^3/s = 208.8848 kW\n",
      "Cantidad de energia perdida en el caudal [669] de 4.5655 m^3/s = 139.3609 kW\n",
      "Cantidad de energia perdida en el caudal [671] de 4.9655 m^3/s = 335.5614 kW\n",
      "Cantidad de energia perdida en el caudal [680] de 4.419 m^3/s = 67.5375 kW\n",
      "Cantidad de energia perdida en el caudal [686] de 4.7578 m^3/s = 233.6978 kW\n",
      "Cantidad de energia perdida en el caudal [687] de 4.5788 m^3/s = 145.8928 kW\n",
      "Cantidad de energia perdida en el caudal [690] de 4.5553 m^3/s = 134.3834 kW\n",
      "Cantidad de energia perdida en el caudal [694] de 4.2964 m^3/s = 7.367 kW\n",
      "Cantidad de energia perdida en el caudal [695] de 4.5559 m^3/s = 134.681 kW\n",
      "Cantidad de energia perdida en el caudal [698] de 4.5396 m^3/s = 126.6881 kW\n",
      "Cantidad de energia perdida en el caudal [699] de 4.3136 m^3/s = 15.8217 kW\n",
      "Cantidad de energia perdida en el caudal [702] de 4.3856 m^3/s = 51.1262 kW\n",
      "Cantidad de energia perdida en el caudal [704] de 4.9142 m^3/s = 310.3917 kW\n",
      "Cantidad de energia perdida en el caudal [706] de 4.8354 m^3/s = 271.7863 kW\n",
      "Cantidad de energia perdida en el caudal [712] de 4.3763 m^3/s = 46.562 kW\n",
      "Cantidad de energia perdida en el caudal [713] de 4.9343 m^3/s = 320.287 kW\n",
      "Cantidad de energia perdida en el caudal [714] de 4.5092 m^3/s = 111.7831 kW\n",
      "Cantidad de energia perdida en el caudal [718] de 4.9965 m^3/s = 350.7791 kW\n",
      "Cantidad de energia perdida en el caudal [720] de 4.7049 m^3/s = 207.7609 kW\n",
      "Cantidad de energia perdida en el caudal [727] de 4.7287 m^3/s = 219.4267 kW\n",
      "Cantidad de energia perdida en el caudal [730] de 4.8639 m^3/s = 285.7572 kW\n",
      "Cantidad de energia perdida en el caudal [732] de 4.9342 m^3/s = 320.2403 kW\n",
      "Cantidad de energia perdida en el caudal [734] de 4.413 m^3/s = 64.6002 kW\n",
      "Cantidad de energia perdida en el caudal [735] de 4.5649 m^3/s = 139.1026 kW\n",
      "Cantidad de energia perdida en el caudal [737] de 4.7154 m^3/s = 212.9193 kW\n",
      "Cantidad de energia perdida en el caudal [738] de 4.632 m^3/s = 172.0113 kW\n",
      "Cantidad de energia perdida en el caudal [739] de 4.5662 m^3/s = 139.702 kW\n",
      "Cantidad de energia perdida en el caudal [741] de 4.9426 m^3/s = 324.3642 kW\n",
      "Cantidad de energia perdida en el caudal [750] de 4.5125 m^3/s = 113.3756 kW\n",
      "Cantidad de energia perdida en el caudal [755] de 4.3619 m^3/s = 39.5346 kW\n",
      "Cantidad de energia perdida en el caudal [757] de 4.9245 m^3/s = 315.4605 kW\n",
      "Cantidad de energia perdida en el caudal [760] de 4.9681 m^3/s = 336.8762 kW\n",
      "Cantidad de energia perdida en el caudal [763] de 4.7144 m^3/s = 212.3948 kW\n",
      "Cantidad de energia perdida en el caudal [766] de 4.7317 m^3/s = 220.9176 kW\n",
      "Cantidad de energia perdida en el caudal [767] de 4.9759 m^3/s = 340.6747 kW\n",
      "Cantidad de energia perdida en el caudal [770] de 4.3958 m^3/s = 56.1582 kW\n",
      "Cantidad de energia perdida en el caudal [777] de 4.4126 m^3/s = 64.397 kW\n",
      "Cantidad de energia perdida en el caudal [779] de 4.914 m^3/s = 310.3264 kW\n",
      "Cantidad de energia perdida en el caudal [783] de 4.8399 m^3/s = 273.962 kW\n",
      "Cantidad de energia perdida en el caudal [786] de 4.8849 m^3/s = 296.0397 kW\n",
      "Cantidad de energia perdida en el caudal [790] de 4.8346 m^3/s = 271.3629 kW\n",
      "Cantidad de energia perdida en el caudal [793] de 4.3944 m^3/s = 55.473 kW\n",
      "Cantidad de energia perdida en el caudal [794] de 4.3701 m^3/s = 43.531 kW\n",
      "Cantidad de energia perdida en el caudal [797] de 4.5835 m^3/s = 148.2305 kW\n",
      "Cantidad de energia perdida en el caudal [799] de 4.3695 m^3/s = 43.2614 kW\n",
      "Cantidad de energia perdida en el caudal [801] de 4.9798 m^3/s = 342.5759 kW\n",
      "Cantidad de energia perdida en el caudal [802] de 4.8881 m^3/s = 297.6347 kW\n",
      "Cantidad de energia perdida en el caudal [804] de 4.7207 m^3/s = 215.5134 kW\n",
      "Cantidad de energia perdida en el caudal [805] de 4.9009 m^3/s = 303.9026 kW\n",
      "Cantidad de energia perdida en el caudal [815] de 4.6753 m^3/s = 193.2246 kW\n",
      "Cantidad de energia perdida en el caudal [822] de 4.4504 m^3/s = 82.9394 kW\n",
      "Cantidad de energia perdida en el caudal [827] de 4.4219 m^3/s = 68.9414 kW\n",
      "Cantidad de energia perdida en el caudal [828] de 4.5683 m^3/s = 140.7531 kW\n",
      "Cantidad de energia perdida en el caudal [830] de 4.9414 m^3/s = 323.738 kW\n",
      "Cantidad de energia perdida en el caudal [831] de 4.2942 m^3/s = 6.319 kW\n",
      "Cantidad de energia perdida en el caudal [835] de 4.8592 m^3/s = 283.4486 kW\n",
      "Cantidad de energia perdida en el caudal [840] de 4.8623 m^3/s = 284.9664 kW\n",
      "Cantidad de energia perdida en el caudal [844] de 4.6271 m^3/s = 169.5699 kW\n",
      "Cantidad de energia perdida en el caudal [846] de 4.9514 m^3/s = 328.644 kW\n",
      "Cantidad de energia perdida en el caudal [848] de 4.9256 m^3/s = 316.0134 kW\n",
      "Cantidad de energia perdida en el caudal [849] de 4.8173 m^3/s = 262.896 kW\n",
      "Cantidad de energia perdida en el caudal [850] de 4.992 m^3/s = 348.5593 kW\n",
      "Cantidad de energia perdida en el caudal [854] de 4.6826 m^3/s = 196.8285 kW\n",
      "Cantidad de energia perdida en el caudal [855] de 4.9215 m^3/s = 313.975 kW\n",
      "Cantidad de energia perdida en el caudal [859] de 4.4214 m^3/s = 68.7208 kW\n",
      "Cantidad de energia perdida en el caudal [861] de 4.6174 m^3/s = 164.8436 kW\n",
      "Cantidad de energia perdida en el caudal [864] de 4.6691 m^3/s = 190.2014 kW\n",
      "Cantidad de energia perdida en el caudal [868] de 4.7484 m^3/s = 229.0823 kW\n",
      "Cantidad de energia perdida en el caudal [877] de 4.5512 m^3/s = 132.3454 kW\n",
      "Cantidad de energia perdida en el caudal [878] de 4.8927 m^3/s = 299.8712 kW\n",
      "Cantidad de energia perdida en el caudal [885] de 4.3284 m^3/s = 23.0783 kW\n",
      "Cantidad de energia perdida en el caudal [886] de 4.3169 m^3/s = 17.4408 kW\n",
      "Cantidad de energia perdida en el caudal [888] de 4.8326 m^3/s = 270.4134 kW\n",
      "Cantidad de energia perdida en el caudal [890] de 4.8369 m^3/s = 272.5052 kW\n",
      "Cantidad de energia perdida en el caudal [895] de 4.8804 m^3/s = 293.8517 kW\n",
      "Cantidad de energia perdida en el caudal [896] de 4.7483 m^3/s = 229.0196 kW\n",
      "Cantidad de energia perdida en el caudal [897] de 4.72 m^3/s = 215.1654 kW\n",
      "Cantidad de energia perdida en el caudal [901] de 4.8491 m^3/s = 278.4732 kW\n",
      "Cantidad de energia perdida en el caudal [909] de 4.7505 m^3/s = 230.1129 kW\n",
      "Cantidad de energia perdida en el caudal [911] de 4.5773 m^3/s = 145.1749 kW\n",
      "Cantidad de energia perdida en el caudal [913] de 4.8242 m^3/s = 266.2691 kW\n",
      "Cantidad de energia perdida en el caudal [914] de 4.8005 m^3/s = 254.6397 kW\n",
      "Cantidad de energia perdida en el caudal [916] de 4.9919 m^3/s = 348.5504 kW\n",
      "Cantidad de energia perdida en el caudal [917] de 4.4421 m^3/s = 78.8499 kW\n",
      "Cantidad de energia perdida en el caudal [924] de 4.8911 m^3/s = 299.0831 kW\n",
      "Cantidad de energia perdida en el caudal [925] de 4.9514 m^3/s = 328.6827 kW\n",
      "Cantidad de energia perdida en el caudal [927] de 4.5492 m^3/s = 131.3999 kW\n",
      "Cantidad de energia perdida en el caudal [935] de 4.9595 m^3/s = 332.6467 kW\n",
      "Cantidad de energia perdida en el caudal [937] de 4.7727 m^3/s = 241.0118 kW\n",
      "Cantidad de energia perdida en el caudal [938] de 4.7409 m^3/s = 225.3978 kW\n",
      "Cantidad de energia perdida en el caudal [940] de 4.942 m^3/s = 324.0626 kW\n",
      "Cantidad de energia perdida en el caudal [951] de 4.6671 m^3/s = 189.2079 kW\n",
      "Cantidad de energia perdida en el caudal [955] de 4.6024 m^3/s = 157.4998 kW\n",
      "Cantidad de energia perdida en el caudal [958] de 4.747 m^3/s = 228.4205 kW\n",
      "Cantidad de energia perdida en el caudal [965] de 4.8564 m^3/s = 282.0821 kW\n",
      "Cantidad de energia perdida en el caudal [970] de 4.2971 m^3/s = 7.7284 kW\n",
      "Cantidad de energia perdida en el caudal [972] de 4.4066 m^3/s = 61.4596 kW\n",
      "Cantidad de energia perdida en el caudal [978] de 4.9402 m^3/s = 323.1564 kW\n",
      "Cantidad de energia perdida en el caudal [980] de 4.4149 m^3/s = 65.5138 kW\n",
      "Cantidad de energia perdida en el caudal [981] de 4.968 m^3/s = 336.8126 kW\n",
      "Cantidad de energia perdida en el caudal [984] de 4.502 m^3/s = 108.2368 kW\n",
      "Cantidad de energia perdida en el caudal [986] de 4.5101 m^3/s = 112.2271 kW\n",
      "Cantidad de energia perdida en el caudal [988] de 4.4581 m^3/s = 86.6862 kW\n",
      "Cantidad de energia perdida en el caudal [989] de 4.478 m^3/s = 96.4793 kW\n",
      "Cantidad de energia perdida en el caudal [990] de 4.6155 m^3/s = 163.9054 kW\n",
      "Cantidad de energia perdida en el caudal [992] de 4.3523 m^3/s = 34.7799 kW\n",
      "Cantidad de energia perdida en el caudal [993] de 4.6432 m^3/s = 177.4751 kW\n",
      "Cantidad de energia perdida en el caudal [994] de 4.5618 m^3/s = 137.5794 kW\n"
     ]
    }
   ],
   "source": [
    "for i in eachindex(Q)\n",
    "    Ep_cal =  Q[i]*ρ*g*h/1000 # Energia generada en la turbina por la caida de agua \n",
    "    append!(W_turb, Ep_cal)\n",
    "    rpm_cal = (W_turb[i]*60)/(τ*2π) # rpm dadas por la turbina\n",
    "    append!(rpm_obt, rpm_cal)\n",
    "    if W_turb[i] > W_gen\n",
    "        append!(W_perdida, W_turb[i] - W_gen)\n",
    "        println(\"Cantidad de energia perdida en el caudal [\", i,\"] de \", round(Q[i], digits = 4), \" m^3/s = \", round(W_turb[i] - W_gen, digits = 4), \" kW\")\n",
    "        append!(Q_excedente, Q[i])\n",
    "        append!(W_excedente, W_turb[i])\n",
    "    end\n",
    "    append!(W_gen_max, Q[i]*0 + 2100) # Limite de energia del generador\n",
    "end"
   ]
  },
  {
   "cell_type": "markdown",
   "metadata": {},
   "source": [
    "Finalmente creamos el gráfico que representa nuestro sistema haciendo uso de los valores calculados."
   ]
  },
  {
   "cell_type": "code",
   "execution_count": 6,
   "metadata": {},
   "outputs": [
    {
     "data": {
      "image/png": "[encoded data removed]",
      "text/plain": [
       "Figure(PyObject <Figure size 640x480 with 1 Axes>)"
      ]
     },
     "metadata": {},
     "output_type": "display_data"
    }
   ],
   "source": [
    "title(\"Energia generada en la planta hidroeléctrica a distintos caudales\")\n",
    "scatter(Q, W_turb, color=\"b\", linewidth=0.05)\n",
    "scatter(Q_excedente, W_excedente, color=\"r\", linewidth=0.05)\n",
    "plot(Q, W_gen_max)\n",
    "legend([\"Suministro inferior\" , \"Suministro excedente\"])\n",
    "xlabel(\"Caudal (m^3/s)\")\n",
    "ylabel(\"Potencia de la turbina (kW)\")\n",
    "grid()"
   ]
  },
  {
   "cell_type": "code",
   "execution_count": 7,
   "metadata": {},
   "outputs": [
    {
     "name": "stdout",
     "output_type": "stream",
     "text": [
      "Cantidad total de energia perdida = 55554.9106 kW\n",
      "\n",
      "Probabilidad de que el generador opere por debajo de 2100 kW: 69.8%\n"
     ]
    }
   ],
   "source": [
    "println(\"Cantidad total de energia perdida = \", round(sum(W_perdida), digits=4), \" kW\")\n",
    "println(\"\\nProbabilidad de que el generador opere por debajo de 2100 kW: \", (length(Q) - length(W_perdida))/length(Q)*100, \"%\" )"
   ]
  }
 ],
 "metadata": {
  "kernelspec": {
   "display_name": "Julia 1.8.0",
   "language": "julia",
   "name": "julia-1.8"
  },
  "language_info": {
   "file_extension": ".jl",
   "mimetype": "application/julia",
   "name": "julia",
   "version": "1.8.0"
  },
  "orig_nbformat": 4
 },
 "nbformat": 4,
 "nbformat_minor": 2
}
