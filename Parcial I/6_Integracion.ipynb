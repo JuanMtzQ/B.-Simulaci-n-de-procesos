{
 "cells": [
  {
   "cell_type": "markdown",
   "metadata": {},
   "source": [
    "#### Método Simpson 1/3"
   ]
  },
  {
   "cell_type": "code",
   "execution_count": 44,
   "metadata": {},
   "outputs": [],
   "source": [
    "using PyPlot"
   ]
  },
  {
   "cell_type": "markdown",
   "metadata": {},
   "source": [
    "Función a integrar"
   ]
  },
  {
   "cell_type": "code",
   "execution_count": 4,
   "metadata": {},
   "outputs": [
    {
     "data": {
      "text/plain": [
       "f (generic function with 1 method)"
      ]
     },
     "execution_count": 4,
     "metadata": {},
     "output_type": "execute_result"
    }
   ],
   "source": [
    "f(x) = exp(x^2) + x^2 "
   ]
  },
  {
   "cell_type": "markdown",
   "metadata": {},
   "source": [
    "Datos iniciales"
   ]
  },
  {
   "cell_type": "code",
   "execution_count": 46,
   "metadata": {},
   "outputs": [
    {
     "data": {
      "text/plain": [
       "0.001"
      ]
     },
     "execution_count": 46,
     "metadata": {},
     "output_type": "execute_result"
    }
   ],
   "source": [
    "a = 0 #Punto inicial \n",
    "b = 1 # Punto final\n",
    "N = 1001 # Numero de elementos impar(rectangulos)\n",
    "n = N - 1 # Divisiones\n",
    "h = (b-a)/n # Tamaño de paso "
   ]
  },
  {
   "cell_type": "code",
   "execution_count": 47,
   "metadata": {},
   "outputs": [],
   "source": [
    "xi = []\n",
    "\n",
    "#División de elementos\n",
    "for i=0:n\n",
    "    append!(xi, a+h*i)\n",
    "end "
   ]
  },
  {
   "cell_type": "code",
   "execution_count": 48,
   "metadata": {},
   "outputs": [
    {
     "data": {
      "text/plain": [
       "(896.6346381326998, 894.2810654965526)"
      ]
     },
     "execution_count": 48,
     "metadata": {},
     "output_type": "execute_result"
    }
   ],
   "source": [
    "suma_1 = 0\n",
    "suma_2 = 0\n",
    "\n",
    "lim = Integer((n-2)/2) #Flotante a entero para evitar problemas con Julia\n",
    "\n",
    "# Elementos de la primera suma_1\n",
    "if lim >=1\n",
    "    for k=0:lim\n",
    "        global suma_1 = suma_1 + f(xi[2*k+1])\n",
    "    end\n",
    "end\n",
    "\n",
    "#Elementos de la segunda suma_2\n",
    "if lim>=2 # De lo contrario, el valor de (n-2)/2 hubiera dado negativo, lo que \n",
    "    for k = 1:lim\n",
    "        global suma_2 = suma_2 + f(xi[2*k])\n",
    "    end\n",
    "end\n",
    "suma_1, suma_2"
   ]
  },
  {
   "cell_type": "markdown",
   "metadata": {},
   "source": [
    "Operación"
   ]
  },
  {
   "cell_type": "code",
   "execution_count": 49,
   "metadata": {},
   "outputs": [
    {
     "name": "stdout",
     "output_type": "stream",
     "text": [
      "La integral por Simpson 1/3 = 1.7932729884507879\n"
     ]
    }
   ],
   "source": [
    "Integral = h/3*(f(a)+ f(b) + 4*suma_1 + 2*suma_2)\n",
    "println(\"La integral por Simpson 1/3 = \", Integral)"
   ]
  },
  {
   "cell_type": "code",
   "execution_count": 16,
   "metadata": {},
   "outputs": [
    {
     "data": {
      "text/plain": [
       "Simpson_1_3 (generic function with 1 method)"
      ]
     },
     "execution_count": 16,
     "metadata": {},
     "output_type": "execute_result"
    }
   ],
   "source": [
    "function Simpson_1_3(a, b, N, fx)\n",
    "    n = N - 1 # Divisiones\n",
    "    h = (b-a)/n # Tamaño de paso\n",
    "    xi = [] # Vector de Divisiones\n",
    "    suma_1 = 0 # Primer elemento suma\n",
    "    suma_2 = 0 # Segundo elemento suma\n",
    "    lim = Integer((n-2)/2)  #Flotante a entero para evitar problemas con Julia\n",
    "    #División de elementos\n",
    "    for i=0:n\n",
    "        append!(xi, a+h*i)\n",
    "    end\n",
    "    # Elementos de la primera suma_1\n",
    "    if lim >=1\n",
    "        for k=0:lim\n",
    "            suma_1 = suma_1 + f(xi[2*k+1])\n",
    "        end\n",
    "    end\n",
    "    #Elementos de la segunda suma_2\n",
    "    if lim>=2 # De lo contrario, el valor de (n-2)/2 hubiera dado negativo, lo que \n",
    "        for k = 1:lim\n",
    "            suma_2 = suma_2 + f(xi[2*k])\n",
    "        end\n",
    "    end\n",
    "    Integral = h/3*(f(a)+ f(b) + 4*suma_1 + 2*suma_2)\n",
    "    return println(\"La integral por Simpson 1/3 = \", Integral)\n",
    "end\n"
   ]
  },
  {
   "cell_type": "code",
   "execution_count": 17,
   "metadata": {},
   "outputs": [
    {
     "name": "stdout",
     "output_type": "stream",
     "text": [
      "La integral por Simpson 1/3 = 1.7932729884507879\n"
     ]
    }
   ],
   "source": [
    "Simpson_1_3(0,1,1001, f)"
   ]
  },
  {
   "cell_type": "code",
   "execution_count": null,
   "metadata": {},
   "outputs": [],
   "source": []
  }
 ],
 "metadata": {
  "kernelspec": {
   "display_name": "Julia 1.8.0",
   "language": "julia",
   "name": "julia-1.8"
  },
  "language_info": {
   "file_extension": ".jl",
   "mimetype": "application/julia",
   "name": "julia",
   "version": "1.8.0"
  },
  "orig_nbformat": 4,
  "vscode": {
   "interpreter": {
    "hash": "089a8d1b08ca92c7bea7020d794a4e5ec2b9272b4bd976308fa8c348b9a0a1f7"
   }
  }
 },
 "nbformat": 4,
 "nbformat_minor": 2
}
