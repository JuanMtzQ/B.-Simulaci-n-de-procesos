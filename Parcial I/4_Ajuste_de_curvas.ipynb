{
 "cells": [
  {
   "cell_type": "markdown",
   "metadata": {},
   "source": [
    "### Ajuste de curvas"
   ]
  },
  {
   "cell_type": "markdown",
   "metadata": {},
   "source": [
    "#### Datos originales"
   ]
  },
  {
   "cell_type": "code",
   "execution_count": 1,
   "metadata": {},
   "outputs": [],
   "source": [
    "using PyPlot"
   ]
  },
  {
   "cell_type": "code",
   "execution_count": 2,
   "metadata": {},
   "outputs": [
    {
     "data": {
      "image/png": "[encoded data removed]",
      "text/plain": [
       "Figure(PyObject <Figure size 640x480 with 1 Axes>)"
      ]
     },
     "metadata": {},
     "output_type": "display_data"
    },
    {
     "data": {
      "text/plain": [
       "PyObject <matplotlib.collections.PathCollection object at 0x0000000058A6B700>"
      ]
     },
     "execution_count": 2,
     "metadata": {},
     "output_type": "execute_result"
    }
   ],
   "source": [
    "x = [2 4 6 8 10 12]\n",
    "y = [1.4 3.5 8.0 7.3 9.2 10.0]\n",
    "scatter(x, y)"
   ]
  },
  {
   "cell_type": "markdown",
   "metadata": {},
   "source": [
    "#### Regresión por mínimos cuadrados"
   ]
  },
  {
   "cell_type": "markdown",
   "metadata": {},
   "source": [
    "$$y=ax+b$$\n",
    "$$a = \\frac{N\\sum{x_iy_i}-\\sum{x_i}\\sum{y_i}}{N\\sum{x_i^2}-{(\\sum{x_i})^2}}$$\n",
    "$$b=\\frac{N\\sum{x_i^2}\\sum{y_i}-\\sum{x_i}\\sum{x_iy_i}}{N\\sum{x_i^2}-{(\\sum{x_i})^2}}$$\n",
    "$$r = \\frac{xy-xy}{\\sqrt{x^2 - (x)^2} \\cdot \\sqrt{y^2 - (y)^2}}$$"
   ]
  },
  {
   "cell_type": "code",
   "execution_count": 3,
   "metadata": {},
   "outputs": [
    {
     "data": {
      "text/plain": [
       "6"
      ]
     },
     "execution_count": 3,
     "metadata": {},
     "output_type": "execute_result"
    }
   ],
   "source": [
    "# Numero de elementos totales\n",
    "N = length(x)\n"
   ]
  },
  {
   "cell_type": "markdown",
   "metadata": {},
   "source": [
    "Inicializadores"
   ]
  },
  {
   "cell_type": "code",
   "execution_count": 4,
   "metadata": {},
   "outputs": [
    {
     "data": {
      "text/plain": [
       "0"
      ]
     },
     "execution_count": 4,
     "metadata": {},
     "output_type": "execute_result"
    }
   ],
   "source": [
    "suma_x = 0\n",
    "suma_y = 0\n",
    "suma_xy = 0\n",
    "suma_x2 = 0\n",
    "suma_y2 = 0"
   ]
  },
  {
   "cell_type": "markdown",
   "metadata": {},
   "source": [
    "Acumulador"
   ]
  },
  {
   "cell_type": "code",
   "execution_count": 5,
   "metadata": {},
   "outputs": [],
   "source": [
    "for i=1:N\n",
    "    global suma_x = suma_x + x[i]\n",
    "    global suma_y = suma_y + y[i]\n",
    "    global suma_xy = suma_xy + x[i]*y[i]\n",
    "    global suma_x2 = suma_x2 + x[i]^2\n",
    "    global suma_y2 = suma_y2 + y[i]^2\n",
    "end"
   ]
  },
  {
   "cell_type": "markdown",
   "metadata": {},
   "source": [
    "Ecuacion de coeficientes a y b"
   ]
  },
  {
   "cell_type": "code",
   "execution_count": 6,
   "metadata": {},
   "outputs": [
    {
     "data": {
      "text/plain": [
       "0.6266666666666684"
      ]
     },
     "execution_count": 6,
     "metadata": {},
     "output_type": "execute_result"
    }
   ],
   "source": [
    "a = (N*suma_xy - suma_x*suma_y)/(N*suma_x2 - suma_x^2)\n",
    "b = (suma_x2*suma_y - suma_x*suma_xy)/(N*suma_x2 - suma_x^2)"
   ]
  },
  {
   "cell_type": "code",
   "execution_count": 7,
   "metadata": {},
   "outputs": [
    {
     "name": "stdout",
     "output_type": "stream",
     "text": [
      "a = 0.8485714285714282\n",
      "b = 0.6266666666666684\n"
     ]
    }
   ],
   "source": [
    "println(\"a = \", a)\n",
    "println(\"b = \", b)"
   ]
  },
  {
   "cell_type": "code",
   "execution_count": 8,
   "metadata": {},
   "outputs": [
    {
     "data": {
      "image/png": "[encoded data removed]",
      "text/plain": [
       "Figure(PyObject <Figure size 640x480 with 1 Axes>)"
      ]
     },
     "metadata": {},
     "output_type": "display_data"
    },
    {
     "data": {
      "text/plain": [
       "PyObject Text(0.5, 1.0, 'Ajuste de curva lineal')"
      ]
     },
     "execution_count": 8,
     "metadata": {},
     "output_type": "execute_result"
    }
   ],
   "source": [
    "yn = []\n",
    "for i=1:N\n",
    "    append!(yn, a*x[i]+b)\n",
    "end\n",
    "scatter(x, y)\n",
    "# Convirtiendo vector x a una matrix x\n",
    "plot(transpose(x), yn, \"r\")\n",
    "title(\"Ajuste de curva lineal\")"
   ]
  },
  {
   "cell_type": "markdown",
   "metadata": {},
   "source": [
    "$$r = \\frac{xy-xy}{\\sqrt{x^2 - (x)^2} \\cdot \\sqrt{y^2 - (y)^2}}$$"
   ]
  },
  {
   "cell_type": "code",
   "execution_count": 9,
   "metadata": {},
   "outputs": [
    {
     "data": {
      "text/plain": [
       "52.69"
      ]
     },
     "execution_count": 9,
     "metadata": {},
     "output_type": "execute_result"
    }
   ],
   "source": [
    "x_media = suma_x/N\n",
    "y_media = suma_y/N\n",
    "xy_media = suma_xy/N\n",
    "x2_media = suma_x2/N\n",
    "y2_media = suma_y2/N"
   ]
  },
  {
   "cell_type": "code",
   "execution_count": 10,
   "metadata": {},
   "outputs": [
    {
     "data": {
      "text/plain": [
       "0.9369815599217882"
      ]
     },
     "execution_count": 10,
     "metadata": {},
     "output_type": "execute_result"
    }
   ],
   "source": [
    "r = (xy_media - x_media*y_media)/(√(x2_media - x_media^2)*√(y2_media - y_media^2))"
   ]
  },
  {
   "cell_type": "code",
   "execution_count": 11,
   "metadata": {},
   "outputs": [
    {
     "name": "stdout",
     "output_type": "stream",
     "text": [
      "Modelo lineal\n",
      " y = 0.8485714285714282x 0.6266666666666684\n"
     ]
    }
   ],
   "source": [
    "println(\"Modelo lineal\")\n",
    "println(\" y = \", a, \"x \", b)"
   ]
  },
  {
   "cell_type": "markdown",
   "metadata": {},
   "source": [
    "Función generada"
   ]
  },
  {
   "cell_type": "code",
   "execution_count": 10,
   "metadata": {},
   "outputs": [
    {
     "data": {
      "text/plain": [
       "RegresionLineal (generic function with 1 method)"
      ]
     },
     "execution_count": 10,
     "metadata": {},
     "output_type": "execute_result"
    }
   ],
   "source": [
    "function RegresionLineal(x, y)\n",
    "    N = length(x)\n",
    "    suma_x = 0 # Inicializadores \n",
    "    suma_y = 0\n",
    "    suma_xy = 0\n",
    "    suma_x2 = 0\n",
    "    suma_y2 = 0\n",
    "    for i=1:N # Acumuladores\n",
    "        suma_x = suma_x + x[i]\n",
    "        suma_y = suma_y + y[i]\n",
    "        suma_xy = suma_xy + x[i]*y[i]\n",
    "        suma_x2 = suma_x2 + x[i]^2\n",
    "        suma_y2 = suma_y2 + y[i]^2\n",
    "    end \n",
    "    # Coeficientes y = ax + b\n",
    "    a = (N*suma_xy - suma_x*suma_y)/(N*suma_x2 - suma_x^2)\n",
    "    b = (suma_x2*suma_y - suma_x*suma_xy)/(N*suma_x2 - suma_x^2)\n",
    "    yn = []\n",
    "    for i=1:N\n",
    "        append!(yn, a*x[i]+b)\n",
    "    end\n",
    "    # Calculo del ajuste r\n",
    "    x_media = suma_x/N\n",
    "    y_media = suma_y/N\n",
    "    xy_media = suma_xy/N\n",
    "    x2_media = suma_x2/N\n",
    "    y2_media = suma_y2/N\n",
    "    r = (xy_media - x_media*y_media)/(√(x2_media - x_media^2)*√(y2_media - y_media^2))\n",
    "    # Convirtiendo vector x a una matrix x\n",
    "    scatter(x, y)\n",
    "    plot(transpose(x), yn, \"r\")\n",
    "    title(\"Ajuste de curva lineal\")\n",
    "    println(\" y = \", a, \"x \", b)\n",
    "end"
   ]
  },
  {
   "cell_type": "code",
   "execution_count": 11,
   "metadata": {},
   "outputs": [
    {
     "name": "stdout",
     "output_type": "stream",
     "text": [
      " y = 0.8485714285714282x 0.6266666666666684\n"
     ]
    },
    {
     "data": {
      "image/png": "[encoded data removed]",
      "text/plain": [
       "Figure(PyObject <Figure size 640x480 with 1 Axes>)"
      ]
     },
     "metadata": {},
     "output_type": "display_data"
    }
   ],
   "source": [
    "RegresionLineal(x,y)"
   ]
  },
  {
   "cell_type": "markdown",
   "metadata": {},
   "source": [
    "#### Modelo exponencial"
   ]
  },
  {
   "cell_type": "markdown",
   "metadata": {},
   "source": [
    "$$y = ax + b$$\n",
    "$$ln (y) = a \\cdot ln (x) + b$$\n",
    "$$e^{ln(y)} = e^{ln(x^n)+b}$$\n",
    "$$y = e^bx^a$$"
   ]
  },
  {
   "cell_type": "code",
   "execution_count": 12,
   "metadata": {},
   "outputs": [
    {
     "name": "stdout",
     "output_type": "stream",
     "text": [
      "Any[0.6931471805599453, 1.3862943611198906, 1.791759469228055, 2.0794415416798357, 2.302585092994046, 2.4849066497880004]\n",
      "Any[0.3364722366212129, 1.252762968495368, 2.0794415416798357, 1.9878743481543455, 2.2192034840549946, 2.302585092994046]\n"
     ]
    }
   ],
   "source": [
    "#Reestructurar como una función\n",
    "ln_y = []\n",
    "ln_x = []\n",
    "\n",
    "suma_x = 0\n",
    "suma_y = 0\n",
    "suma_xy = 0\n",
    "suma_x2 = 0\n",
    "suma_y2 = 0\n",
    "\n",
    "for i=1:N\n",
    "    append!(ln_x, log(x[i]))\n",
    "    append!(ln_y, log(y[i]))\n",
    "    global suma_x = suma_x + ln_x[i]\n",
    "    global suma_y = suma_y + ln_y[i]\n",
    "    global suma_xy = suma_xy + ln_x[i]*ln_y[i]\n",
    "    global suma_x2 = suma_x2 + ln_x[i]^2\n",
    "    global suma_y2 = suma_y2 + ln_y[i]^2\n",
    "end\n",
    "println(ln_x)\n",
    "println(ln_y)"
   ]
  },
  {
   "cell_type": "code",
   "execution_count": 13,
   "metadata": {},
   "outputs": [
    {
     "name": "stdout",
     "output_type": "stream",
     "text": [
      "a = 1.1136513127493066\n",
      "exp(b) = 0.743267246090773\n"
     ]
    }
   ],
   "source": [
    "a = (N*suma_xy - suma_x*suma_y)/(N*suma_x2 - suma_x^2)\n",
    "b = (suma_x2*suma_y - suma_x*suma_xy)/(N*suma_x2 - suma_x^2)\n",
    "println(\"a = \", a)\n",
    "println(\"exp(b) = \", exp(b))"
   ]
  },
  {
   "cell_type": "markdown",
   "metadata": {},
   "source": [
    "$$y = e^bx^a$$"
   ]
  },
  {
   "cell_type": "code",
   "execution_count": 14,
   "metadata": {},
   "outputs": [
    {
     "data": {
      "image/png": "[encoded data removed]",
      "text/plain": [
       "Figure(PyObject <Figure size 640x480 with 1 Axes>)"
      ]
     },
     "metadata": {},
     "output_type": "display_data"
    },
    {
     "data": {
      "text/plain": [
       "PyObject Text(0.5, 1.0, 'Ajuste de curvas exponencial')"
      ]
     },
     "execution_count": 14,
     "metadata": {},
     "output_type": "execute_result"
    }
   ],
   "source": [
    "yn = []\n",
    "for i = 1:N\n",
    "    append!(yn, exp(b)*x[i]^a)\n",
    "end\n",
    "scatter(x, y)\n",
    "plot(transpose(x), yn, \"r\")\n",
    "title(\"Ajuste de curvas exponencial\")"
   ]
  },
  {
   "cell_type": "code",
   "execution_count": 15,
   "metadata": {},
   "outputs": [
    {
     "data": {
      "text/plain": [
       "3.3641853974473848"
      ]
     },
     "execution_count": 15,
     "metadata": {},
     "output_type": "execute_result"
    }
   ],
   "source": [
    "x_media = suma_x/N\n",
    "y_media = suma_y/N\n",
    "xy_media = suma_xy/N\n",
    "x2_media = suma_x2/N\n",
    "y2_media = suma_y2/N"
   ]
  },
  {
   "cell_type": "code",
   "execution_count": 16,
   "metadata": {},
   "outputs": [
    {
     "data": {
      "text/plain": [
       "0.9658751318415034"
      ]
     },
     "execution_count": 16,
     "metadata": {},
     "output_type": "execute_result"
    }
   ],
   "source": [
    "r = (xy_media - x_media*y_media)/(√(x2_media - x_media^2)*√(y2_media - y_media^2))"
   ]
  },
  {
   "cell_type": "code",
   "execution_count": 17,
   "metadata": {},
   "outputs": [
    {
     "name": "stdout",
     "output_type": "stream",
     "text": [
      "Modelo exponencial\n",
      " y = 0.743267246090773x^1.1136513127493066\n"
     ]
    }
   ],
   "source": [
    "println(\"Modelo exponencial\")\n",
    "println(\" y = \", exp(b), \"x^\", a)"
   ]
  },
  {
   "cell_type": "markdown",
   "metadata": {},
   "source": [
    "Función generada"
   ]
  },
  {
   "cell_type": "code",
   "execution_count": 8,
   "metadata": {},
   "outputs": [
    {
     "data": {
      "text/plain": [
       "RegresionExponencial (generic function with 1 method)"
      ]
     },
     "execution_count": 8,
     "metadata": {},
     "output_type": "execute_result"
    }
   ],
   "source": [
    "function RegresionExponencial(x, y)\n",
    "    N = length(x)\n",
    "    ln_y = []\n",
    "    ln_x = []\n",
    "    suma_x = 0\n",
    "    suma_y = 0\n",
    "    suma_xy = 0\n",
    "    suma_x2 = 0\n",
    "    suma_y2 = 0\n",
    "    for i=1:N # Acumuladores\n",
    "        append!(ln_x, log(x[i]))\n",
    "        append!(ln_y, log(y[i]))\n",
    "        suma_x = suma_x + ln_x[i]\n",
    "        suma_y = suma_y + ln_y[i]\n",
    "        suma_xy = suma_xy + ln_x[i]*ln_y[i]\n",
    "        suma_x2 = suma_x2 + ln_x[i]^2\n",
    "        suma_y2 = suma_y2 + ln_y[i]^2\n",
    "    end \n",
    "    # Coeficientes y = ax + b\n",
    "    a = (N*suma_xy - suma_x*suma_y)/(N*suma_x2 - suma_x^2)\n",
    "    b = (suma_x2*suma_y - suma_x*suma_xy)/(N*suma_x2 - suma_x^2)\n",
    "    yn = []\n",
    "    for i = 1:N\n",
    "        append!(yn, exp(b)*x[i]^a)\n",
    "    end\n",
    "    # Calculo del ajuste r\n",
    "    x_media = suma_x/N\n",
    "    y_media = suma_y/N\n",
    "    xy_media = suma_xy/N\n",
    "    x2_media = suma_x2/N\n",
    "    y2_media = suma_y2/N\n",
    "    r = (xy_media - x_media*y_media)/(√(x2_media - x_media^2)*√(y2_media - y_media^2))\n",
    "    scatter(x, y)\n",
    "    plot(transpose(x), yn, \"r\")\n",
    "    title(\"Ajuste de curvas exponencial\")\n",
    "    println(\" y = \", exp(b), \"x^\", a)\n",
    "end"
   ]
  },
  {
   "cell_type": "code",
   "execution_count": 9,
   "metadata": {},
   "outputs": [
    {
     "name": "stdout",
     "output_type": "stream",
     "text": [
      " y = 0.743267246090773x^1.1136513127493066\n"
     ]
    },
    {
     "data": {
      "image/png": "[encoded data removed]",
      "text/plain": [
       "Figure(PyObject <Figure size 640x480 with 1 Axes>)"
      ]
     },
     "metadata": {},
     "output_type": "display_data"
    }
   ],
   "source": [
    "RegresionExponencial(x,y)"
   ]
  },
  {
   "cell_type": "markdown",
   "metadata": {},
   "source": [
    "Aunque el modelo exponencial arroja la mejor correlación $r$, el modelo lineal resulta más sencillo de manipular matematicamente. Por lo tanto, dependiendo del problema manejado, nuestro criterio nos hará decidir por usar uno u otro modelo"
   ]
  },
  {
   "cell_type": "markdown",
   "metadata": {},
   "source": [
    "#### Modelo polinomico de segundo orden"
   ]
  },
  {
   "cell_type": "markdown",
   "metadata": {},
   "source": [
    "Libreria externa: roots.jl"
   ]
  },
  {
   "cell_type": "markdown",
   "metadata": {},
   "source": [
    "Para poder resolver una regresión polinomica de segundo orden es necesario realizar una eliminación gaussiana"
   ]
  },
  {
   "cell_type": "markdown",
   "metadata": {},
   "source": [
    "Eliminación gaussiana"
   ]
  }
 ],
 "metadata": {
  "kernelspec": {
   "display_name": "Julia 1.8.0",
   "language": "julia",
   "name": "julia-1.8"
  },
  "language_info": {
   "file_extension": ".jl",
   "mimetype": "application/julia",
   "name": "julia",
   "version": "1.8.0"
  },
  "orig_nbformat": 4
 },
 "nbformat": 4,
 "nbformat_minor": 2
}
