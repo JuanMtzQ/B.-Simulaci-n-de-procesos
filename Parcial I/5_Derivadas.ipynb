{
 "cells": [
  {
   "cell_type": "markdown",
   "metadata": {},
   "source": [
    "### Método de diferencias finitas"
   ]
  },
  {
   "cell_type": "markdown",
   "metadata": {},
   "source": [
    "#### Diferencia hacia atrás"
   ]
  },
  {
   "cell_type": "markdown",
   "metadata": {},
   "source": [
    "Si el tamaño de paso es muy grande, la aproximación no es tan buena\n",
    "\n",
    "Pagina 512"
   ]
  },
  {
   "cell_type": "code",
   "execution_count": 3,
   "metadata": {},
   "outputs": [
    {
     "data": {
      "text/plain": [
       "df (generic function with 1 method)"
      ]
     },
     "execution_count": 3,
     "metadata": {},
     "output_type": "execute_result"
    }
   ],
   "source": [
    "f(x) =  2*x^2 + 2\n",
    "#Solución analitica\n",
    "df(x) = 4*x"
   ]
  },
  {
   "cell_type": "code",
   "execution_count": 7,
   "metadata": {},
   "outputs": [
    {
     "name": "stdout",
     "output_type": "stream",
     "text": [
      "f(5) = 52\n",
      "df(5) = 20\n"
     ]
    }
   ],
   "source": [
    "println(\"f(5) = \", f(5), \"\\ndf(5) = \", df(5))"
   ]
  },
  {
   "cell_type": "code",
   "execution_count": 12,
   "metadata": {},
   "outputs": [
    {
     "data": {
      "text/plain": [
       "5.3"
      ]
     },
     "execution_count": 12,
     "metadata": {},
     "output_type": "execute_result"
    }
   ],
   "source": [
    "#Tamaño de intervalo\n",
    "h = 0.1\n",
    "xi_1 = xi + h\n",
    "xi_2 = xi + 2*h\n",
    "xi_3 = xi + 3*h"
   ]
  },
  {
   "cell_type": "code",
   "execution_count": 14,
   "metadata": {},
   "outputs": [
    {
     "name": "stdout",
     "output_type": "stream",
     "text": [
      "Primera derivada ordinaria → y' = 20.19999999999996\n",
      "Primera derivada Pascal → y' = 19.999999999999858\n",
      "Segunda derivada ordinaria → y'' = 4.000000000001335\n",
      "Segunda derivada Pascal → y'' = 4.000000000004888\n"
     ]
    }
   ],
   "source": [
    "println(\"Primera derivada ordinaria → y' = \", (f(xi_1) - f(xi))/h )\n",
    "println(\"Primera derivada Pascal → y' = \", (-f(xi_2) + 4*f(xi_1) - 3*f(xi))/2h)\n",
    "\n",
    "println(\"Segunda derivada ordinaria → y'' = \", ( f(xi_2) - 2*f(xi_1) + f(xi) )/h^2)\n",
    "println(\"Segunda derivada Pascal → y'' = \", (-f(xi_3) + 4*f(xi_2) - 5*f(xi_1) + 2*f(xi))/h^2)\n"
   ]
  },
  {
   "cell_type": "code",
   "execution_count": null,
   "metadata": {},
   "outputs": [],
   "source": []
  }
 ],
 "metadata": {
  "kernelspec": {
   "display_name": "Julia 1.7.3",
   "language": "julia",
   "name": "julia-1.7"
  },
  "language_info": {
   "file_extension": ".jl",
   "mimetype": "application/julia",
   "name": "julia",
   "version": "1.8.0"
  },
  "orig_nbformat": 4
 },
 "nbformat": 4,
 "nbformat_minor": 2
}
