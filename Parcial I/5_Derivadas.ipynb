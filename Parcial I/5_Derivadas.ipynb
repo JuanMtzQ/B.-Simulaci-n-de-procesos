{
 "cells": [
  {
   "cell_type": "markdown",
   "metadata": {},
   "source": [
    "### Método de diferencias finitas"
   ]
  },
  {
   "cell_type": "markdown",
   "metadata": {},
   "source": [
    "#### Diferencia hacia atrás"
   ]
  },
  {
   "cell_type": "code",
   "execution_count": 1,
   "metadata": {},
   "outputs": [
    {
     "data": {
      "text/plain": [
       "df (generic function with 1 method)"
      ]
     },
     "execution_count": 1,
     "metadata": {},
     "output_type": "execute_result"
    }
   ],
   "source": [
    "f(x) =  2*x^2 + 2\n",
    "#Solución analitica\n",
    "df(x) = 4*x"
   ]
  },
  {
   "cell_type": "code",
   "execution_count": 2,
   "metadata": {},
   "outputs": [
    {
     "name": "stdout",
     "output_type": "stream",
     "text": [
      "f(5) = 52\n",
      "df(5) = 20\n"
     ]
    }
   ],
   "source": [
    "println(\"f(5) = \", f(5), \"\\ndf(5) = \", df(5))"
   ]
  },
  {
   "cell_type": "code",
   "execution_count": 10,
   "metadata": {},
   "outputs": [
    {
     "data": {
      "text/plain": [
       "5.1"
      ]
     },
     "execution_count": 10,
     "metadata": {},
     "output_type": "execute_result"
    }
   ],
   "source": [
    "#Tamaño de intervalo\n",
    "h = 0.1\n",
    "xi = 5\n",
    "xi_1 = xi + h\n",
    "xi_2 = xi + 2*h\n",
    "xi_3 = xi + 3*h"
   ]
  },
  {
   "cell_type": "code",
   "execution_count": 5,
   "metadata": {},
   "outputs": [
    {
     "name": "stdout",
     "output_type": "stream",
     "text": [
      "Primera derivada ordinaria → y' = 20.19999999999996\n",
      "Primera derivada Pascal → y' = 19.999999999999858\n",
      "Segunda derivada ordinaria → y'' = 4.000000000001335\n",
      "Segunda derivada Pascal → y'' = 4.000000000004888\n"
     ]
    }
   ],
   "source": [
    "println(\"Primera derivada ordinaria → y' = \", (f(xi_1) - f(xi))/h )\n",
    "println(\"Primera derivada Pascal → y' = \", (-f(xi_2) + 4*f(xi_1) - 3*f(xi))/2h)\n",
    "\n",
    "println(\"Segunda derivada ordinaria → y'' = \", ( f(xi_2) - 2*f(xi_1) + f(xi) )/h^2)\n",
    "println(\"Segunda derivada Pascal → y'' = \", (-f(xi_3) + 4*f(xi_2) - 5*f(xi_1) + 2*f(xi))/h^2)\n"
   ]
  },
  {
   "cell_type": "markdown",
   "metadata": {},
   "source": [
    "Tarea: comparacion de derivaciones númericas"
   ]
  },
  {
   "cell_type": "code",
   "execution_count": 31,
   "metadata": {},
   "outputs": [
    {
     "name": "stdout",
     "output_type": "stream",
     "text": [
      "\n",
      "---- Derivada hacia adelante ----\n",
      "Primera derivada → Ord: -0.06995854442831684 Pascal : -0.06995884772875716\n",
      "Segunda derivada → Ord: 0.060660365619469296 Pascal : 0.06065925539644467\n",
      "\n",
      "---- Derivada hacia atrás ----\n",
      "Primera derivada → Ord: -0.0699591510472386 Pascal : -0.06995884773777772\n",
      "Segunda derivada → Ord: 0.060661892176128156 Pascal : 0.06066133706461584\n",
      "\n",
      "---- Derivada centrada ----\n",
      "Primera derivada → Ord: -6.995884773777772e-12 Pascal : -0.06995884773673687\n",
      "Segunda derivada → Ord: 0.060661892176128156 Pascal : 0.06066218129670748\n"
     ]
    }
   ],
   "source": [
    "f(x) = x/(x^3 - x + 3)\n",
    "\n",
    "function DerivadaAdelante(fx, xi, h)\n",
    "    println(\"\\n---- Derivada hacia adelante ----\")\n",
    "    # Valores de xi\n",
    "    xi_1 = xi + h\n",
    "    xi_2 = xi + 2*h\n",
    "    xi_3 = xi + 3*h\n",
    "    # Primera derivada\n",
    "    dfx_1_ord = (f(xi_1) - f(xi))/h\n",
    "    dfx_1_pascal = (-f(xi_2) + 4*f(xi_1) - 3*f(xi))/(2*h)\n",
    "    println(\"Primera derivada → Ord: \", dfx_1_ord, \" Pascal : \", dfx_1_pascal)\n",
    "\n",
    "    # Segunda derivada\n",
    "    dfx_2_ord = (f(xi_2) - 2*f(xi_1) + f(xi))/h^2\n",
    "    dfx_2_pascal = (-f(xi_3) + 4*f(xi_2) - 5*f(xi_1) + 2*f(xi))/h^2\n",
    "    println(\"Segunda derivada → Ord: \", dfx_2_ord, \" Pascal : \", dfx_2_pascal)\n",
    "end\n",
    "\n",
    "function DerivadaAtras(fx, xi, h)\n",
    "    println(\"\\n---- Derivada hacia atrás ----\")\n",
    "    # Valores de xi\n",
    "    xi_1 = xi - h\n",
    "    xi_2 = xi - 2*h\n",
    "    xi_3 = xi - 3*h\n",
    "    # Primera derivada\n",
    "    dfx_1_ord = (f(xi) - f(xi_1))/h\n",
    "    dfx_1_pascal = (3*f(xi) - 4*f(xi_1) + f(xi_2))/(2*h)\n",
    "    println(\"Primera derivada → Ord: \", dfx_1_ord, \" Pascal : \", dfx_1_pascal)\n",
    "\n",
    "    # Segunda derivada\n",
    "    dfx_2_ord = (f(xi) - 2*f(xi_1) + f(xi_2))/h^2\n",
    "    dfx_2_pascal = (2*f(xi) - 5*f(xi_1) + 4*f(xi_2) - f(xi_3))/h^2\n",
    "    println(\"Segunda derivada → Ord: \", dfx_2_ord, \" Pascal : \", dfx_2_pascal)\n",
    "end\n",
    "\n",
    "function DerivadaCentrada(fx, xi, h)\n",
    "    println(\"\\n---- Derivada centrada ----\")\n",
    "    xi1 = xi + h # Punto adelante\n",
    "    xi_1 = xi - h # Punto atrás \n",
    "    xi2 = xi + 2*h \n",
    "    xi_2 = xi - 2*h\n",
    "\n",
    "    # Primera derivada\n",
    "    dfx_1_ord = (f(xi1) - f(xi_1))/2*h\n",
    "    dfx_1_pascal = (-f(xi2) + 8*f(xi1) - 8*f(xi_1) + f(xi_2))/(12*h)\n",
    "    println(\"Primera derivada → Ord: \", dfx_1_ord, \" Pascal : \", dfx_1_pascal)\n",
    "\n",
    "    # Segunda derivada\n",
    "    dfx_2_ord = (f(xi1) - 2*f(xi) + f(xi_1))/(h^2)\n",
    "    dfx_2_pascal =(-f(xi2) + 16*f(xi1) - 30*f(xi) + 16*f(xi_1) - f(xi_2))/(12*h^2)\n",
    "    println(\"Segunda derivada → Ord: \", dfx_2_ord, \" Pascal : \", dfx_2_pascal)\n",
    "end \n",
    "\n",
    "function ComparacionDerivadas(f, xi, h)\n",
    "    DerivadaAdelante(f, xi, h)\n",
    "    DerivadaAtras(f, xi, h)\n",
    "    DerivadaCentrada(f, xi, h)\n",
    "end\n",
    "\n",
    "ComparacionDerivadas(f, 3, 0.00001)"
   ]
  }
 ],
 "metadata": {
  "kernelspec": {
   "display_name": "Julia 1.8.0",
   "language": "julia",
   "name": "julia-1.8"
  },
  "language_info": {
   "file_extension": ".jl",
   "mimetype": "application/julia",
   "name": "julia",
   "version": "1.8.0"
  },
  "orig_nbformat": 4
 },
 "nbformat": 4,
 "nbformat_minor": 2
}
