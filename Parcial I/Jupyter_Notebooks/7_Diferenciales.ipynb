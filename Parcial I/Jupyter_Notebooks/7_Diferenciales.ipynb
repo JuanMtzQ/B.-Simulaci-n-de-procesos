{
 "cells": [
  {
   "cell_type": "markdown",
   "metadata": {},
   "source": [
    "Encontrar una serie de puntos que define nuestra función. "
   ]
  },
  {
   "cell_type": "code",
   "execution_count": 18,
   "metadata": {},
   "outputs": [],
   "source": [
    "using PyPlot\n",
    "using LinearAlgebra\n"
   ]
  },
  {
   "cell_type": "markdown",
   "metadata": {},
   "source": [
    "$$ dy/dx = x^2 -3y$$"
   ]
  },
  {
   "cell_type": "markdown",
   "metadata": {},
   "source": [
    "Ecuacion diferencial"
   ]
  },
  {
   "cell_type": "code",
   "execution_count": 19,
   "metadata": {},
   "outputs": [
    {
     "data": {
      "text/plain": [
       "f (generic function with 1 method)"
      ]
     },
     "execution_count": 19,
     "metadata": {},
     "output_type": "execute_result"
    }
   ],
   "source": [
    "f(x,y) = x^2-3*y"
   ]
  },
  {
   "cell_type": "code",
   "execution_count": 20,
   "metadata": {},
   "outputs": [
    {
     "data": {
      "text/plain": [
       "0.08"
      ]
     },
     "execution_count": 20,
     "metadata": {},
     "output_type": "execute_result"
    }
   ],
   "source": [
    "a = 0\n",
    "b = 1 \n",
    "c = 4 # Valor hasta donde se acota x\n",
    "n = 50 # Aumenta la cantidad de puntos en la gráfica\n",
    "h = (c-a)/n"
   ]
  },
  {
   "cell_type": "code",
   "execution_count": 21,
   "metadata": {},
   "outputs": [
    {
     "data": {
      "text/plain": [
       "51-element Vector{Any}:\n",
       " 0.0\n",
       " 0.08\n",
       " 0.16\n",
       " 0.24\n",
       " 0.32\n",
       " 0.4\n",
       " 0.48\n",
       " 0.56\n",
       " 0.64\n",
       " 0.72\n",
       " 0.8\n",
       " 0.88\n",
       " 0.96\n",
       " ⋮\n",
       " 3.12\n",
       " 3.2\n",
       " 3.2800000000000002\n",
       " 3.36\n",
       " 3.44\n",
       " 3.52\n",
       " 3.6\n",
       " 3.68\n",
       " 3.7600000000000002\n",
       " 3.84\n",
       " 3.92\n",
       " 4.0"
      ]
     },
     "execution_count": 21,
     "metadata": {},
     "output_type": "execute_result"
    }
   ],
   "source": [
    "xi = []\n",
    "for i = 0:n\n",
    "    append!(xi, a+h*i)\n",
    "end\n",
    "xi\n"
   ]
  },
  {
   "cell_type": "code",
   "execution_count": 22,
   "metadata": {},
   "outputs": [
    {
     "data": {
      "text/plain": [
       "1-element Vector{Any}:\n",
       " 1"
      ]
     },
     "execution_count": 22,
     "metadata": {},
     "output_type": "execute_result"
    }
   ],
   "source": [
    "yi = []\n",
    "append!(yi, b) # El primer valor de y(0) = 1, es decir, b\n"
   ]
  },
  {
   "cell_type": "code",
   "execution_count": 23,
   "metadata": {},
   "outputs": [],
   "source": [
    "for i=1:n # El vector xi quedo de 6 elementos\n",
    "    global k1 = h*f(xi[i], yi[i])\n",
    "    global k2 = h*f(xi[i] + h/2, yi[i] + k1/2)\n",
    "    global k3 = h*f(xi[i] + h/2, yi[i] + k2/2)\n",
    "    global k4 = h*f(xi[i] + h, yi[i] + k3)\n",
    "    append!(yi, yi[i] + 1/6*(k1 + 2*k2 + 2*k3 + k4))\n",
    "end"
   ]
  },
  {
   "cell_type": "code",
   "execution_count": 24,
   "metadata": {},
   "outputs": [
    {
     "data": {
      "image/png": "[encoded data removed]",
      "text/plain": [
       "Figure(PyObject <Figure size 640x480 with 1 Axes>)"
      ]
     },
     "metadata": {},
     "output_type": "display_data"
    }
   ],
   "source": [
    "scatter(xi, yi)\n",
    "grid(\"True\")"
   ]
  },
  {
   "cell_type": "code",
   "execution_count": 25,
   "metadata": {},
   "outputs": [
    {
     "data": {
      "text/plain": [
       "RungeKutta4 (generic function with 1 method)"
      ]
     },
     "execution_count": 25,
     "metadata": {},
     "output_type": "execute_result"
    }
   ],
   "source": [
    "# RungeKutta4( x1, y(0), x2, puntos, funcion(x,y) )\n",
    "function RungeKutta4(a, b, c, n, fxy)\n",
    "    h = (c-a)/n # Tamaño de paso\n",
    "    xi = [] # Solucion de x\n",
    "    yi = [] # Solucion de y\n",
    "    append!(yi, b) # El primer valor de y(0) = b\n",
    "    for i = 0:n\n",
    "        append!(xi, a+h*i)\n",
    "    end\n",
    "    for i=1:n # El vector xi quedo de 6 elementos\n",
    "        global k1 = h*f(xi[i], yi[i])\n",
    "        global k2 = h*f(xi[i] + h/2, yi[i] + k1/2)\n",
    "        global k3 = h*f(xi[i] + h/2, yi[i] + k2/2)\n",
    "        global k4 = h*f(xi[i] + h, yi[i] + k3)\n",
    "        append!(yi, yi[i] + 1/6*(k1 + 2*k2 + 2*k3 + k4))\n",
    "    end\n",
    "    scatter(xi, yi)\n",
    "    grid(\"True\")\n",
    "    return xi, yi # Ajustar a una función después\n",
    "end "
   ]
  },
  {
   "cell_type": "code",
   "execution_count": 26,
   "metadata": {},
   "outputs": [
    {
     "data": {
      "image/png": "[encoded data removed]",
      "text/plain": [
       "Figure(PyObject <Figure size 640x480 with 1 Axes>)"
      ]
     },
     "metadata": {},
     "output_type": "display_data"
    },
    {
     "data": {
      "text/plain": [
       "(Any[0.0, 0.08, 0.16, 0.24, 0.32, 0.4, 0.48, 0.56, 0.64, 0.72  …  3.2800000000000002, 3.36, 3.44, 3.52, 3.6, 3.68, 3.7600000000000002, 3.84, 3.92, 4.0], Any[1, 0.7867952810666667, 0.6200098269121305, 0.49064971640422195, 0.3916400232285173, 0.31741536810061377, 0.26359783311681323, 0.22674359815415787, 0.20414363638752805, 0.19366693455920614  …  2.931370745175056, 3.090649105083681, 3.254196378182848, 3.422012085141284, 3.594095848900596, 3.770447372853742, 3.9510664236794666, 4.135952817839282, 4.325106410955529, 4.518527089455797])"
      ]
     },
     "execution_count": 26,
     "metadata": {},
     "output_type": "execute_result"
    }
   ],
   "source": [
    "xi, yi = RungeKutta4(0, 1, 4, 50, f)"
   ]
  },
  {
   "cell_type": "markdown",
   "metadata": {},
   "source": [
    "Aplicando un ajuste de curva cuadratico"
   ]
  },
  {
   "cell_type": "code",
   "execution_count": 27,
   "metadata": {},
   "outputs": [
    {
     "data": {
      "text/plain": [
       "Cramer (generic function with 1 method)"
      ]
     },
     "execution_count": 27,
     "metadata": {},
     "output_type": "execute_result"
    }
   ],
   "source": [
    "function Cramer(A, b)\n",
    "    DetA = det(A)\n",
    "    n = length(b)\n",
    "    xi = []\n",
    "    for i=1:n\n",
    "        Apivot = copy(A)\n",
    "        Apivot[:,i] = b\n",
    "        DetApivot = det(Apivot)\n",
    "        x = DetApivot/DetA\n",
    "        append!(xi, x)\n",
    "    end\n",
    "    return xi\n",
    "end"
   ]
  },
  {
   "cell_type": "code",
   "execution_count": 28,
   "metadata": {},
   "outputs": [
    {
     "data": {
      "text/plain": [
       "RegresionPolinomial (generic function with 1 method)"
      ]
     },
     "execution_count": 28,
     "metadata": {},
     "output_type": "execute_result"
    }
   ],
   "source": [
    "function RegresionPolinomial(x, y)\n",
    "    # x = float(x)\n",
    "    # y = float(y)\n",
    "    n = length(x)\n",
    "    suma_x = 0\n",
    "    suma_x2 = 0\n",
    "    suma_y = 0\n",
    "    suma_x3 = 0\n",
    "    suma_xy = 0\n",
    "    suma_x4 = 0\n",
    "    suma_x2y = 0\n",
    "    for i=1:n\n",
    "        suma_x = suma_x + x[i]\n",
    "        suma_x2 = suma_x2 + x[i]^2\n",
    "        suma_y = suma_y + y[i]\n",
    "        suma_x3 = suma_x3 + x[i]^3\n",
    "        suma_xy = suma_xy + x[i]*y[i]\n",
    "        suma_x4 = suma_x4 + x[i]^4\n",
    "        suma_x2y = suma_x2y + y[i]*x[i]^2\n",
    "    end\n",
    "    \n",
    "    # Resolución de matriz con regla de Cramer\n",
    "    A = [n suma_x suma_x2; suma_x suma_x2 suma_x3; suma_x2 suma_x3 suma_x4]\n",
    "    b = [suma_y; suma_xy; suma_x2y]\n",
    "    tam_matriz = size(A)\n",
    "    DetA = det(A)\n",
    "    ai = Cramer(A, b)\n",
    "\n",
    "    # Aproximacion a los resultados\n",
    "    yn = []\n",
    "    for i = 1:n\n",
    "        append!(yn, ai[1] + ai[2]*x[i] + ai[3]*x[i]^2)\n",
    "    end\n",
    "\n",
    "    # Cálculo del coeficiente de correlacion\n",
    "    media_y = suma_y/n\n",
    "    suma_1 = 0\n",
    "    suma_2 = 0\n",
    "    for i=1:n\n",
    "        suma_1 = suma_1 + (y[i] - media_y)^2\n",
    "        suma_2 = suma_2 + (y[i] - ai[1] - ai[2]*x[i] - ai[3]*x[i]^2)^2\n",
    "    end \n",
    "    r = (suma_1 - suma_2)/suma_1\n",
    "    return ai, r, yn\n",
    "end"
   ]
  },
  {
   "cell_type": "code",
   "execution_count": 31,
   "metadata": {},
   "outputs": [
    {
     "name": "stdout",
     "output_type": "stream",
     "text": [
      " y = (0.604486498854807) + (-0.6881712631390741) x + (0.4236634841938795) x^2\n",
      "Con un ajuste r = 0.9946\n"
     ]
    },
    {
     "data": {
      "image/png": "[encoded data removed]",
      "text/plain": [
       "Figure(PyObject <Figure size 640x480 with 1 Axes>)"
      ]
     },
     "metadata": {},
     "output_type": "display_data"
    }
   ],
   "source": [
    "# Ajuste polinomico de segundo orden\n",
    "ai, r, yn = RegresionPolinomial(xi, yi)\n",
    "scatter(xi, yi)\n",
    "plot(transpose(xi), yn, \"r\")\n",
    "title(\"Ajuste polinomico de segundo orden\")\n",
    "println(\" y = (\", ai[1], \") + (\", ai[2], \") x + (\", ai[3], \") x^2\\nCon un ajuste r = \", round(r, digits=4))\n"
   ]
  }
 ],
 "metadata": {
  "kernelspec": {
   "display_name": "Julia 1.8.0",
   "language": "julia",
   "name": "julia-1.8"
  },
  "language_info": {
   "file_extension": ".jl",
   "mimetype": "application/julia",
   "name": "julia",
   "version": "1.8.0"
  },
  "orig_nbformat": 4
 },
 "nbformat": 4,
 "nbformat_minor": 2
}
