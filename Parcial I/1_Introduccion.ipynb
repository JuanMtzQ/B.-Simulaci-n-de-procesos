{
 "cells": [
  {
   "cell_type": "markdown",
   "metadata": {},
   "source": [
    "### Introduccion"
   ]
  },
  {
   "cell_type": "markdown",
   "metadata": {},
   "source": [
    "#### Operaciones basicas"
   ]
  },
  {
   "cell_type": "code",
   "execution_count": 1,
   "metadata": {},
   "outputs": [
    {
     "name": "stdout",
     "output_type": "stream",
     "text": [
      "Ingenieria Quimica\n"
     ]
    },
    {
     "data": {
      "text/plain": [
       "\"\""
      ]
     },
     "execution_count": 1,
     "metadata": {},
     "output_type": "execute_result"
    }
   ],
   "source": [
    "println(\"Ingenieria Quimica\")\n",
    "readline()"
   ]
  },
  {
   "cell_type": "code",
   "execution_count": 2,
   "metadata": {},
   "outputs": [
    {
     "name": "stdout",
     "output_type": "stream",
     "text": [
      "El valor de A = 10\n",
      "El valor de A + B = 19\n",
      "El valor de A + B = 19\n",
      "El valor de A * B = 90\n",
      "El valor de A - B = 1\n",
      "El valor de A / B = 1.1111111111111112\n",
      "El valor de A^B = 1000000000\n",
      "El valor de exp(B) = 8103.083927575384\n",
      "El valor de √B = 3.0\n",
      "El valor de √B = 3.0\n",
      "El logaritmo natural de B = 2.1972245773362196\n",
      "El logaritmo base 10 de B = 0.9542425094393249\n"
     ]
    }
   ],
   "source": [
    "A = 10\n",
    "B = 9\n",
    "C = A + B\n",
    "println(\"El valor de A = \", A)\n",
    "println(\"El valor de A + B = \", C)\n",
    "println(\"El valor de A + B = \", A + B)\n",
    "println(\"El valor de A * B = \", A * B)\n",
    "println(\"El valor de A - B = \", A - B)\n",
    "println(\"El valor de A / B = \", A/B)\n",
    "println(\"El valor de A^B = \", A^B)\n",
    "println(\"El valor de exp(B) = \", exp(B))\n",
    "println(\"El valor de √B = \", sqrt(B))\n",
    "println(\"El valor de √B = \", B^(1/2))\n",
    "println(\"El logaritmo natural de B = \", log(B))\n",
    "println(\"El logaritmo base 10 de B = \", log10(B))"
   ]
  },
  {
   "cell_type": "markdown",
   "metadata": {},
   "source": [
    "#### Ciclos"
   ]
  },
  {
   "cell_type": "code",
   "execution_count": 3,
   "metadata": {},
   "outputs": [
    {
     "name": "stdout",
     "output_type": "stream",
     "text": [
      "A es menor que 10\n"
     ]
    }
   ],
   "source": [
    "# A = 10\n",
    "A = 8\n",
    "if A >= 10\n",
    "    println(A)\n",
    "    println(\"A es mayor o igual a 10\")\n",
    "else\n",
    "    println(\"A es menor que 10\")\n",
    "end\n"
   ]
  },
  {
   "cell_type": "markdown",
   "metadata": {},
   "source": [
    "#### Condicionales"
   ]
  },
  {
   "cell_type": "markdown",
   "metadata": {},
   "source": [
    "And `&&`, ambas condiciones se deben cumplir para que el proceso suceda\n",
    "\n",
    "or `||`, es excluyente; si al menos una de las condiciones se cumple el proceso sucede"
   ]
  },
  {
   "cell_type": "code",
   "execution_count": 4,
   "metadata": {},
   "outputs": [
    {
     "name": "stdout",
     "output_type": "stream",
     "text": [
      "A es menor que 10\n"
     ]
    }
   ],
   "source": [
    "# A = 10\n",
    "A = 12\n",
    "B = 8\n",
    "if (A >= 10) && (B == 9)\n",
    "    println(A)\n",
    "    println(B)\n",
    "    println(\"A es mayor o igual a 10\")\n",
    "else\n",
    "    println(\"A es menor que 10\")\n",
    "end"
   ]
  },
  {
   "cell_type": "markdown",
   "metadata": {},
   "source": [
    "Nuestro codigo presenta una incoherencia debido a error humano"
   ]
  },
  {
   "cell_type": "code",
   "execution_count": 5,
   "metadata": {},
   "outputs": [
    {
     "name": "stdout",
     "output_type": "stream",
     "text": [
      "12\n",
      "8\n",
      "A es mayor o igual a 10\n"
     ]
    }
   ],
   "source": [
    "A = 12\n",
    "B = 8\n",
    "if (A >= 10) || (B == 9)\n",
    "    println(A)\n",
    "    println(B)\n",
    "    println(\"A es mayor o igual a 10\")\n",
    "end \n",
    "\n",
    "if A <= 10\n",
    "    println(\"A es menor que 10\")\n",
    "end"
   ]
  },
  {
   "cell_type": "markdown",
   "metadata": {},
   "source": [
    "##### Ordenador de tres numeros y comparador"
   ]
  },
  {
   "cell_type": "markdown",
   "metadata": {},
   "source": [
    "Dado tres numeros, ordenarlos de mayor a menor y arrojar si son o no iguales entre si"
   ]
  },
  {
   "cell_type": "code",
   "execution_count": 6,
   "metadata": {},
   "outputs": [
    {
     "name": "stdout",
     "output_type": "stream",
     "text": [
      "C = 100\n",
      "B = 10\n",
      "A = 1\n"
     ]
    }
   ],
   "source": [
    "A = 1\n",
    "B = 10\n",
    "C = 100\n",
    "\n",
    "#Comprobación de numeros iguales\n",
    "if A == B && A == C\n",
    "    println(\"A, B y C son iguales\")\n",
    "    println(\"A = \", A)\n",
    "    println(\"B = \", B)\n",
    "    println(\"C = \", C)\n",
    "else\n",
    "    if A == B && B > C\n",
    "        println(\"A y B son iguales\")\n",
    "        println(\"A = \", A)\n",
    "        println(\"B = \", B)\n",
    "        println(\"C = \", C)\n",
    "    else\n",
    "        if A == C && C > B\n",
    "            println(\"A y C son iguales\")\n",
    "            println(\"A = \", A)\n",
    "            println(\"C = \", C)\n",
    "            println(\"B = \", B)\n",
    "        else\n",
    "            if B == C && C > A\n",
    "                println(\"B y C son iguales\")\n",
    "                println(\"B = \", B)\n",
    "                println(\"C = \", C)\n",
    "                println(\"A = \", A)\n",
    "            end\n",
    "        end\n",
    "    end\n",
    "end\n",
    "\n",
    "\n",
    "if A > B && A > C\n",
    "    println(\"A = \", A)\n",
    "    if B > C\n",
    "        println(\"B = \", B)\n",
    "        println(\"C = \", C)\n",
    "    else C < B\n",
    "        println(\"C = \", C)\n",
    "        println(\"B = \", B)\n",
    "    end\n",
    "end\n",
    "\n",
    "if B > A && B > C\n",
    "    println(\"B = \", B)\n",
    "    if C > A\n",
    "        println(\"C = \", C)\n",
    "        println(\"A = \", A)\n",
    "    else C < A\n",
    "        println(\"A = \", A)\n",
    "        println(\"C = \", C)\n",
    "    end\n",
    "end\n",
    "\n",
    "if C > A && C > B \n",
    "    println(\"C = \", C)\n",
    "    if B > A\n",
    "        println(\"B = \", B)\n",
    "        println(\"A = \", A)\n",
    "    else B < A\n",
    "        println(\"A = \", A)\n",
    "        println(\"B = \", B)\n",
    "    end \n",
    "end"
   ]
  },
  {
   "cell_type": "markdown",
   "metadata": {},
   "source": [
    "Variable global\n",
    "\n",
    "Cuando queremos utilizar una variable que se encuentra fuera de nuestro ciclo, debemos usar el subfijo `global`, con el fin de que se llame a la variable externa al ciclo"
   ]
  },
  {
   "cell_type": "code",
   "execution_count": 7,
   "metadata": {},
   "outputs": [
    {
     "data": {
      "text/plain": [
       "1:2:9"
      ]
     },
     "execution_count": 7,
     "metadata": {},
     "output_type": "execute_result"
    }
   ],
   "source": [
    "function ecuacion(x)\n",
    "    y = x^2 + 4*x + 4\n",
    "    return y\n",
    "end\n",
    "\n",
    "xi = [1,2,3,4,5,6,7,8,9,10]\n",
    "z = 1:2:10 #Aumento de dos en dos inicio:aumento:fin\n",
    "#=\n",
    "for i=1:10\n",
    "    global println(\"x = \", xi[i], \"y = \", ecuacion(xi[i]))\n",
    "end\n",
    "=#"
   ]
  },
  {
   "cell_type": "code",
   "execution_count": 8,
   "metadata": {},
   "outputs": [
    {
     "name": "stdout",
     "output_type": "stream",
     "text": [
      "x = 1 y = 9\n",
      "x = 2 y = 16\n",
      "x = 3 y = 25\n",
      "x = 4 y = 36\n",
      "x = 5 y = 49\n",
      "x = 6 y = 64\n",
      "x = 7 y = 81\n",
      "x = 8 y = 100\n",
      "x = 9 y = 121\n",
      "x = 10 y = 144\n"
     ]
    }
   ],
   "source": [
    "xi = []\n",
    "\n",
    "for i=1:10\n",
    "    append!(xi, i)\n",
    "    println(\"x = \", xi[i], \" y = \", ecuacion(xi[i]))\n",
    "end"
   ]
  },
  {
   "cell_type": "code",
   "execution_count": 9,
   "metadata": {},
   "outputs": [
    {
     "name": "stdout",
     "output_type": "stream",
     "text": [
      "x =1 y = 9\n",
      "x =2 y = 16\n",
      "x =3 y = 25\n",
      "x =4 y = 36\n",
      "x =5 y = 49\n",
      "x =6 y = 64\n",
      "x =7 y = 81\n",
      "x =8 y = 100\n",
      "x =9 y = 121\n",
      "x =10 y = 144\n"
     ]
    },
    {
     "data": {
      "text/plain": [
       "10-element Vector{Any}:\n",
       "   9\n",
       "  16\n",
       "  25\n",
       "  36\n",
       "  49\n",
       "  64\n",
       "  81\n",
       " 100\n",
       " 121\n",
       " 144"
      ]
     },
     "execution_count": 9,
     "metadata": {},
     "output_type": "execute_result"
    }
   ],
   "source": [
    "x = []\n",
    "y = []\n",
    "\n",
    "for i = 1:10\n",
    "    append!(x, i)\n",
    "    append!(y, ecuacion(x[i]))\n",
    "    println(\"x =\", x[i], \" y = \", y[i])\n",
    "end\n",
    "\n",
    "x\n",
    "y"
   ]
  },
  {
   "cell_type": "markdown",
   "metadata": {},
   "source": [
    "Importación de librerias"
   ]
  },
  {
   "cell_type": "code",
   "execution_count": 10,
   "metadata": {},
   "outputs": [
    {
     "name": "stdout",
     "output_type": "stream",
     "text": [
      "PyPlot\n"
     ]
    }
   ],
   "source": [
    "using PyPlot"
   ]
  }
 ],
 "metadata": {
  "kernelspec": {
   "display_name": "Julia 1.7.3",
   "language": "julia",
   "name": "julia-1.7"
  },
  "language_info": {
   "file_extension": ".jl",
   "mimetype": "application/julia",
   "name": "julia",
   "version": "1.7.3"
  },
  "orig_nbformat": 4
 },
 "nbformat": 4,
 "nbformat_minor": 2
}
