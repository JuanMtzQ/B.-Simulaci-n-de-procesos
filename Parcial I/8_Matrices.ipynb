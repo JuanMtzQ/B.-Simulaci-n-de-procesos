{
 "cells": [
  {
   "cell_type": "markdown",
   "metadata": {},
   "source": [
    "Grossman. Algebra Lineal"
   ]
  },
  {
   "cell_type": "markdown",
   "metadata": {},
   "source": [
    "$$2x_1 + 8x_2 + 6x_3 = 20$$\n",
    "$$4x_1 + 2x_2 - 2x_3 = -2$$\n",
    "$$3x_1 - x_2 + x_3 = 11$$\n",
    "\n",
    "Esto se puede reescribir como: \n",
    "$$Ax=b$$\n",
    "donde $A$ es la matriz de coeficientes y $b$ la matriz de resultados"
   ]
  },
  {
   "cell_type": "code",
   "execution_count": 3,
   "metadata": {},
   "outputs": [
    {
     "data": {
      "text/plain": [
       "3-element Vector{Int64}:\n",
       " 20\n",
       " -2\n",
       " 11"
      ]
     },
     "execution_count": 3,
     "metadata": {},
     "output_type": "execute_result"
    }
   ],
   "source": [
    "A = [2 8 6; 4 2 -2; 3 -1 1]\n",
    "b = [20; -2; 11]"
   ]
  },
  {
   "cell_type": "code",
   "execution_count": 2,
   "metadata": {},
   "outputs": [],
   "source": [
    "using LinearAlgebra"
   ]
  },
  {
   "cell_type": "code",
   "execution_count": 5,
   "metadata": {},
   "outputs": [
    {
     "name": "stdout",
     "output_type": "stream",
     "text": [
      "Determinante de A = -140.0\n",
      "Inversa de A = [0.0 0.09999999999999998 0.2; 0.07142857142857142 0.11428571428571431 -0.2; 0.07142857142857142 -0.18571428571428572 0.2]\n",
      "Transpuesta de A = [2 4 3; 8 2 -1; 6 -2 1]\n",
      "Eigenvectores de A = Eigen{Float64, Float64, Matrix{Float64}, Vector{Float64}}([-6.063759984475772, 2.7907650408333775, 8.272994943642399], [0.7781296635451158 0.28019317123558957 -0.8464834935771162; -0.4849824806207465 -0.5580873835248128 -0.4480841154321072; -0.39913183311045486 0.7810443387819747 -0.2875522919381905])\n"
     ]
    }
   ],
   "source": [
    "println(\"Determinante de A = \", det(A))\n",
    "println(\"Inversa de A = \", inv(A))\n",
    "println(\"Transpuesta de A = \", transpose(A))\n",
    "println(\"Eigenvectores de A = \", eigen(A))"
   ]
  },
  {
   "cell_type": "code",
   "execution_count": 6,
   "metadata": {},
   "outputs": [
    {
     "ename": "LoadError",
     "evalue": "BoundsError: attempt to access 0-element Vector{Any} at index [1]",
     "output_type": "error",
     "traceback": [
      "BoundsError: attempt to access 0-element Vector{Any} at index [1]",
      "",
      "Stacktrace:",
      " [1] getindex(A::Vector{Any}, i1::Int64)",
      "   @ Base .\\array.jl:924",
      " [2] top-level scope",
      "   @ .\\In[6]:8",
      " [3] eval",
      "   @ .\\boot.jl:368 [inlined]",
      " [4] include_string(mapexpr::typeof(REPL.softscope), mod::Module, code::String, filename::String)",
      "   @ Base .\\loading.jl:1428"
     ]
    }
   ],
   "source": [
    "A = [2 8 6; 4 2 -2; 3 -1 1]\n",
    "b = [20; -2; 11]\n",
    "DA = det(A)\n",
    "Ap = A\n",
    "xi = []\n",
    "\n",
    "for i=1:3\n",
    "    println(xi[i])\n",
    "    for j=1:3 # Columna\n",
    "        Ap[j, i] = b[j] # Matriz pivote\n",
    "    end\n",
    "    append!(xi, det(Ap)/DA)\n",
    "end\n",
    "xi[3]"
   ]
  },
  {
   "cell_type": "code",
   "execution_count": 9,
   "metadata": {},
   "outputs": [
    {
     "data": {
      "text/plain": [
       "3×3 Matrix{Int64}:\n",
       " 2   8  20\n",
       " 4   2  -2\n",
       " 3  -1  11"
      ]
     },
     "execution_count": 9,
     "metadata": {},
     "output_type": "execute_result"
    }
   ],
   "source": [
    "A = [2 8 6; 4 2 -2; 3 -1 1]\n",
    "b = [20; -2; 11]\n",
    "DA = det(A)\n",
    "Ap = A\n",
    "xi = []\n",
    "for i=1:3\n",
    "    for j=1:3 # Columna\n",
    "        Ap[j, 3] = b[j] # Matriz pivote\n",
    "    end\n",
    "    append!(xi, det(Ap)/DA)\n",
    "    Ap = A\n",
    "end\n",
    "Ap"
   ]
  },
  {
   "cell_type": "code",
   "execution_count": 103,
   "metadata": {},
   "outputs": [
    {
     "ename": "LoadError",
     "evalue": "syntax: incomplete: \"for\" at In[103]:7 requires end",
     "output_type": "error",
     "traceback": [
      "syntax: incomplete: \"for\" at In[103]:7 requires end",
      "",
      "Stacktrace:",
      " [1] top-level scope",
      "   @ In[103]:7",
      " [2] eval",
      "   @ .\\boot.jl:368 [inlined]",
      " [3] include_string(mapexpr::typeof(REPL.softscope), mod::Module, code::String, filename::String)",
      "   @ Base .\\loading.jl:1428"
     ]
    }
   ],
   "source": [
    "A = [2 8 6; 4 2 -2; 3 -1 1]\n",
    "b = [20; -2; 11]\n",
    "DA = det(A)\n",
    "Ap = A\n",
    "xi = []\n",
    "\n",
    "for i=1:3\n",
    "    append!(xi, det(Ap)/DA)\n",
    "    println(xi[i])\n",
    "    for j=1:3 # Columna\n",
    "        global Ap[j, i] = A[j, i] # Matriz pivote\n",
    "    ends\n",
    "end\n",
    "xi\n"
   ]
  },
  {
   "cell_type": "code",
   "execution_count": 95,
   "metadata": {},
   "outputs": [
    {
     "name": "stdout",
     "output_type": "stream",
     "text": [
      "[2.0, -1.0000000000000004, 4.0]\n"
     ]
    }
   ],
   "source": [
    "x=inv(A)*b\n",
    "println(x)"
   ]
  },
  {
   "cell_type": "code",
   "execution_count": null,
   "metadata": {},
   "outputs": [],
   "source": []
  }
 ],
 "metadata": {
  "kernelspec": {
   "display_name": "Julia 1.8.0",
   "language": "julia",
   "name": "julia-1.8"
  },
  "language_info": {
   "file_extension": ".jl",
   "mimetype": "application/julia",
   "name": "julia",
   "version": "1.8.0"
  },
  "orig_nbformat": 4
 },
 "nbformat": 4,
 "nbformat_minor": 2
}
