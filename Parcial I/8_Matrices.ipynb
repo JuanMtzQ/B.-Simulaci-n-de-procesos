{
 "cells": [
  {
   "cell_type": "markdown",
   "metadata": {},
   "source": [
    "Grossman. Algebra Lineal"
   ]
  },
  {
   "cell_type": "markdown",
   "metadata": {},
   "source": [
    "$$2x_1 + 8x_2 + 6x_3 = 20$$\n",
    "$$4x_1 + 2x_2 - 2x_3 = -2$$\n",
    "$$3x_1 - x_2 + x_3 = 11$$\n",
    "\n",
    "Esto se puede reescribir como: \n",
    "$$Ax=b$$\n",
    "donde $A$ es la matriz de coeficientes y $b$ la matriz de resultados"
   ]
  },
  {
   "cell_type": "code",
   "execution_count": 5,
   "metadata": {},
   "outputs": [
    {
     "data": {
      "text/plain": [
       "3-element Vector{Int64}:\n",
       " 20\n",
       " -2\n",
       " 11"
      ]
     },
     "execution_count": 5,
     "metadata": {},
     "output_type": "execute_result"
    }
   ],
   "source": [
    "A = [2 8 6; 4 2 -2; 3 -1 1]\n",
    "b = [20; -2; 11]"
   ]
  },
  {
   "cell_type": "code",
   "execution_count": 6,
   "metadata": {},
   "outputs": [],
   "source": [
    "using LinearAlgebra"
   ]
  },
  {
   "cell_type": "code",
   "execution_count": 7,
   "metadata": {},
   "outputs": [
    {
     "name": "stdout",
     "output_type": "stream",
     "text": [
      "Determinante de A = -140.0\n",
      "\n",
      "Inversa de A = [0.0 0.09999999999999998 0.2; 0.07142857142857142 0.11428571428571431 -0.2; 0.07142857142857142 -0.18571428571428572 0.2]\n",
      "\n",
      "Transpuesta de A = [2 4 3; 8 2 -1; 6 -2 1]\n",
      "\n",
      "Eigenvalores de A = Eigen{Float64, Float64, Matrix{Float64}, Vector{Float64}}([-6.063759984475772, 2.7907650408333775, 8.272994943642399], [0.7781296635451158 0.28019317123558957 -0.8464834935771162; -0.4849824806207465 -0.5580873835248128 -0.4480841154321072; -0.39913183311045486 0.7810443387819747 -0.2875522919381905])\n"
     ]
    }
   ],
   "source": [
    "println(\"Determinante de A = \", det(A))\n",
    "println(\"\\nInversa de A = \", inv(A))\n",
    "println(\"\\nTranspuesta de A = \", transpose(A))\n",
    "println(\"\\nEigenvalores de A = \", eigen(A))"
   ]
  },
  {
   "cell_type": "markdown",
   "metadata": {},
   "source": [
    "#### Matriz inversa"
   ]
  },
  {
   "cell_type": "code",
   "execution_count": null,
   "metadata": {},
   "outputs": [],
   "source": [
    "A = [2 8 6; 4 2 -2; 3 -1 1]\n",
    "b = [20; -2; 11]\n",
    "x=inv(A)*b\n",
    "println(x)"
   ]
  },
  {
   "cell_type": "markdown",
   "metadata": {},
   "source": [
    "#### Regla de Cramer"
   ]
  },
  {
   "cell_type": "code",
   "execution_count": 8,
   "metadata": {},
   "outputs": [
    {
     "name": "stdout",
     "output_type": "stream",
     "text": [
      "[2.0, -1.0000000000000002, 4.0]\n"
     ]
    }
   ],
   "source": [
    "\n",
    "A = [2 8 6; 4 2 -2; 3 -1 1]\n",
    "b = [20; -2; 11]\n",
    "DetA = det(A) # El determinante de A será usado para encontrar x1, x2, x3\n",
    "\n",
    "# Obteniendo el valor de x1\n",
    "Apivot = copy(A) # Para evitar que la matriz original se modifique, utilizamos copy\n",
    "# Reemplazando la primera columna de la matriz de coeficientes (copia)\n",
    "# por el vector de resultados\n",
    "Apivot[:,1]= b\n",
    "# Aplicando determinante a la matriz pivoteada\n",
    "DetApivot = det(Apivot)\n",
    "# Obteniendo el valor de x1\n",
    "x1 = DetApivot/DetA\n",
    "\n",
    "# Aplicando para x2 \n",
    "Bpivot = copy(A)\n",
    "DetB = det(Bpivot)\n",
    "Bpivot[:,2] = b\n",
    "DetBpivot = det(Bpivot)\n",
    "x2 = DetBpivot/DetA\n",
    "\n",
    "#Aplicando para x3\n",
    "Cpivot = copy(A)\n",
    "DetC = det(Cpivot)\n",
    "Cpivot[:,3] = b\n",
    "DetCpivot = det(Cpivot)\n",
    "x3 = DetCpivot/DetA\n",
    "\n",
    "println([x1, x2, x3])"
   ]
  },
  {
   "cell_type": "markdown",
   "metadata": {},
   "source": [
    "Aplicando de manera general"
   ]
  },
  {
   "cell_type": "code",
   "execution_count": 9,
   "metadata": {},
   "outputs": [
    {
     "data": {
      "text/plain": [
       "3-element Vector{Any}:\n",
       "  2.0\n",
       " -1.0000000000000002\n",
       "  4.0"
      ]
     },
     "execution_count": 9,
     "metadata": {},
     "output_type": "execute_result"
    }
   ],
   "source": [
    "A = [2 8 6; 4 2 -2; 3 -1 1]\n",
    "b = [20; -2; 11]\n",
    "DetA = det(A)\n",
    "xi = []\n",
    "\n",
    "for i=1:3\n",
    "    Apivot = copy(A)\n",
    "    Apivot[:,i] = b\n",
    "    DetApivot = det(Apivot)\n",
    "    x = DetApivot/DetA\n",
    "    append!(xi, x)\n",
    "end\n",
    "xi"
   ]
  },
  {
   "cell_type": "code",
   "execution_count": 10,
   "metadata": {},
   "outputs": [
    {
     "data": {
      "text/plain": [
       "3-element Vector{Any}:\n",
       "  2.0\n",
       " -1.0000000000000002\n",
       "  4.0"
      ]
     },
     "execution_count": 10,
     "metadata": {},
     "output_type": "execute_result"
    }
   ],
   "source": [
    "# Clase, elemento por elemento\n",
    "A = [2 8 6; 4 2 -2; 3 -1 1]\n",
    "b = [20; -2; 11]\n",
    "DA = det(A)\n",
    "xi = []\n",
    "for i=1:3\n",
    "    Ap = copy(A)\n",
    "    for j=1:3 # Columna\n",
    "        Ap[j, i] = b[j] # Matriz pivote\n",
    "    end\n",
    "    append!(xi, det(Ap)/DA)\n",
    "end\n",
    "xi"
   ]
  },
  {
   "cell_type": "markdown",
   "metadata": {},
   "source": [
    "#### Gauss simple"
   ]
  },
  {
   "cell_type": "code",
   "execution_count": 17,
   "metadata": {},
   "outputs": [
    {
     "data": {
      "text/plain": [
       "4-element Vector{Float64}:\n",
       "  28.77777777777774\n",
       "   2.166666666666663\n",
       " -15.999999999999977\n",
       "   6.0555555555555545"
      ]
     },
     "execution_count": 17,
     "metadata": {},
     "output_type": "execute_result"
    }
   ],
   "source": [
    "A = [3 -2 5 0; 4 5 8 1; 1 1 2 1; 2 7 6 5]\n",
    "b = [2; 4; 5; 7]\n",
    "\n",
    "function Gauss(A, b)\n",
    "    Ap = float(copy(A)) # Copia flotante para evitar que realice cambios sobre el original\n",
    "    bp = float(copy(b))\n",
    "    n = length(b) # Tamaño de la matriz n x n\n",
    "    x = zeros(n)\n",
    "    # Proceso de eliminacion\n",
    "    for k = 1:(n-1) # Indexacion del primer renglon con sus columnas\n",
    "        for i = (k+1):n # Indexacion de filas restantes\n",
    "            if Ap[i,k] == 0 # Si el elemento es cero, salta al siguiente\n",
    "                continue\n",
    "            end\n",
    "            factor = Ap[k, k] / Ap[i, k] # factor utilizado para la eliminación de los valores de la columna\n",
    "            for j = k:n # Indexacion de columnas restantes\n",
    "                Ap[i, j] = Ap[k, j] - Ap[i, j]*factor # Criterio de eliminación\n",
    "            end\n",
    "            bp[i] = bp[k] - bp[i]*factor\n",
    "        end\n",
    "    end\n",
    "    \n",
    "    #=\n",
    "    println(\"Matriz con ceros inferiores\")\n",
    "    println(Ap)\n",
    "    println(\"\\nVector de b\")\n",
    "    println(bp)\n",
    "    =#\n",
    "\n",
    "    # Sustitucion hacia atrás para encontrar los valores de x\n",
    "    x[n] = bp[n] / Ap[n, n] # Solución de xn\n",
    "    for i = n-1:-1:1 # Recorre la matriz desde el penultimo renglon hasta el primero\n",
    "        sum_ax = 0.0 \n",
    "        for j = i+1:n #  \n",
    "            sum_ax = sum_ax + Ap[i, j]*x[j]\n",
    "        end\n",
    "        x[i] = (bp[i] - sum_ax)/Ap[i,i]\n",
    "    end \n",
    "    #=\n",
    "    println(\"\\nSolucion de x[i]\")\n",
    "    println(x)\n",
    "    =#\n",
    "    return x\n",
    "end\n",
    "\n",
    "Gauss(A, b)"
   ]
  },
  {
   "cell_type": "markdown",
   "metadata": {},
   "source": [
    "#### Gauss con pivoteo parcial"
   ]
  },
  {
   "cell_type": "code",
   "execution_count": 18,
   "metadata": {},
   "outputs": [
    {
     "data": {
      "text/plain": [
       "5-element Vector{Float64}:\n",
       " 0.030769230769230882\n",
       " 0.7846153846153845\n",
       " 1.015384615384615\n",
       " 0.15384615384615374\n",
       " 0.06153846153846176"
      ]
     },
     "execution_count": 18,
     "metadata": {},
     "output_type": "execute_result"
    }
   ],
   "source": [
    "A = [0 7 -1 3 1; 0 3 4 1 7; 6 2 0 2 -1; 2 1 2 0 2; 3 4 1 -2 1]\n",
    "b = [5; 7; 2; 3; 4]\n",
    "\n",
    "#=\n",
    "A = [3 -2 5 0; 4 5 8 1; 1 1 2 1; 2 7 6 5]\n",
    "b = [2; 4; 5; 7]\n",
    "=#\n",
    "function GaussPivoteoParcial(A, b)\n",
    "    Ap = float(copy(A)) # Copia flotante para evitar que realice cambios sobre el original\n",
    "    bp = float(copy(b))\n",
    "    n = length(b) # Tamaño de la matriz n x n\n",
    "    x = zeros(n)\n",
    "\n",
    "    # Proceso de eliminacion\n",
    "    for k = 1:(n-1) # Indexacion del primer renglon con sus columnas\n",
    "\n",
    "        # Pivoteo parcial\n",
    "        if abs(Ap[k, k]) < 1.0e-12 # Si el valor de elemento pivote es cero (practicamente)\n",
    "            for i = (k+1):n # \n",
    "                if abs(Ap[i, k]) > abs(Ap[k, k]) # Si un elemento posterior al elemento pivote es mayor\n",
    "                    for j = k:n \n",
    "                        Ap[k, j], Ap[i, j] = Ap[i, j], Ap[k, j] # Intercambio de elemento pivote Ap\n",
    "                    end\n",
    "                    bp[k], bp[i] = bp[i], bp[k] # Intercambio de elemento (correspondiente al renglon del pivote) bp\n",
    "                    break # Regresa al ciclo anterior para continuar con la eliminacion\n",
    "                end\n",
    "            end\n",
    "        end\n",
    "\n",
    "        for i = (k+1):n # Indexacion de filas restantes\n",
    "            if Ap[i,k] == 0 # Si el elemento es cero, salta al siguiente\n",
    "                continue\n",
    "            end\n",
    "            factor = Ap[k, k] / Ap[i, k] # factor utilizado para la eliminación de los valores de la columna\n",
    "            for j = k:n # Indexacion de columnas restantes\n",
    "                Ap[i, j] = Ap[k, j] - Ap[i, j]*factor # Criterio de eliminación\n",
    "            end\n",
    "            bp[i] = bp[k] - bp[i]*factor\n",
    "        end\n",
    "    end\n",
    "\n",
    "    # Sustitucion hacia atrás para encontrar los valores de x\n",
    "    x[n] = bp[n] / Ap[n, n] # Solución de xn\n",
    "    for i = n-1:-1:1 # Recorre la matriz desde el penultimo renglon hasta el primero\n",
    "        sum_ax = 0.0 \n",
    "        for j = i+1:n #  \n",
    "            sum_ax = sum_ax + Ap[i, j]*x[j]\n",
    "        end\n",
    "        x[i] = (bp[i] - sum_ax)/Ap[i,i]\n",
    "    end \n",
    "    #=\n",
    "    println(\"\\nSolucion de x[i]\")\n",
    "    println(x)\n",
    "    =#\n",
    "    return x\n",
    "end\n",
    "\n",
    "GaussPivoteoParcial(A, b)"
   ]
  },
  {
   "cell_type": "markdown",
   "metadata": {},
   "source": [
    "#### Gauss - Jordan"
   ]
  },
  {
   "cell_type": "code",
   "execution_count": 21,
   "metadata": {},
   "outputs": [
    {
     "data": {
      "text/plain": [
       "4-element Vector{Float64}:\n",
       " -0.5\n",
       "  1.0\n",
       "  0.33333333333333337\n",
       " -2.0"
      ]
     },
     "execution_count": 21,
     "metadata": {},
     "output_type": "execute_result"
    }
   ],
   "source": [
    "A = [0 2 0 1; 2 2 3 2; 4 -3 0 1; 6 1 -6 -5]\n",
    "b = [0; -2; -7; 6]\n",
    "\n",
    "#=\n",
    "A = [0 7 -1 3 1; 0 3 4 1 7; 6 2 0 2 -1; 2 1 2 0 2; 3 4 1 -2 1]\n",
    "b = [5; 7; 2; 3; 4]\n",
    "=#\n",
    "\n",
    "#=\n",
    "A = [3 -2 5 0; 4 5 8 1; 1 1 2 1; 2 7 6 5]\n",
    "b = [2; 4; 5; 7]\n",
    "=#\n",
    "function GaussJordan(A, b)\n",
    "    Ap = float(copy(A)) # Copia flotante para evitar que realice cambios sobre el original\n",
    "    bp = float(copy(b))\n",
    "    n = length(b) # Tamaño de la matriz n x n\n",
    "    for k = 1:n # Indexacion del primer renglon con sus columnas\n",
    "\n",
    "        # Pivoteo parcial\n",
    "        if abs(Ap[k, k]) < 1.0e-12 # Si el valor de elemento pivote es cero (practicamente)\n",
    "            for i = (k+1):n # \n",
    "                if abs(Ap[i, k]) > abs(Ap[k, k]) # Si un elemento posterior al elemento pivote es mayor\n",
    "                    for j = k:n \n",
    "                        Ap[k, j], Ap[i, j] = Ap[i, j], Ap[k, j] # Intercambio de elemento pivote Ap\n",
    "                    end\n",
    "                    bp[k], bp[i] = bp[i], bp[k] # Intercambio de elemento (correspondiente al renglon del pivote) bp\n",
    "                    break # Regresa al ciclo anterior para continuar con la eliminacion\n",
    "                end\n",
    "            end\n",
    "        end\n",
    "\n",
    "        # Division de la fila pivote\n",
    "        pivote = Ap[k, k]\n",
    "        for j = k:n\n",
    "            Ap[k, j] = Ap[k, j] / pivote\n",
    "        end\n",
    "        bp[k] = bp[k] / pivote \n",
    "\n",
    "        # Proceso de eliminacion\n",
    "        for i = 1:n\n",
    "            if i == k || Ap[i, k] == 0\n",
    "                continue\n",
    "            end \n",
    "            factor = Ap[i, k]\n",
    "            for j = k:n\n",
    "                Ap[i, j] = Ap[i, j] - Ap[k, j]*factor\n",
    "            end\n",
    "            bp[i] = bp[i] - bp[k]*factor\n",
    "        end\n",
    "    end\n",
    "    #=\n",
    "    println(\"Matriz identidad\")\n",
    "    println(Ap)\n",
    "    println(\"Solucion x[i]\")\n",
    "    println(bp)\n",
    "    =#\n",
    "    return bp\n",
    "end\n",
    "\n",
    "GaussJordan(A, b)"
   ]
  }
 ],
 "metadata": {
  "kernelspec": {
   "display_name": "Julia 1.8.0",
   "language": "julia",
   "name": "julia-1.8"
  },
  "language_info": {
   "file_extension": ".jl",
   "mimetype": "application/julia",
   "name": "julia",
   "version": "1.8.0"
  },
  "orig_nbformat": 4
 },
 "nbformat": 4,
 "nbformat_minor": 2
}
