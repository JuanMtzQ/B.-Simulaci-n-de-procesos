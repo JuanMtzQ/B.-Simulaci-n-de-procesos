{
 "cells": [
  {
   "cell_type": "markdown",
   "metadata": {},
   "source": [
    "#### Proyecto: Tanque CSTR"
   ]
  },
  {
   "cell_type": "markdown",
   "metadata": {},
   "source": [
    "Imagine un tanque en el que se mezclan tres corrientes provenientes de diferentes partes de una planta química. Las fracciones de masa de los compuestos A, B y C en cada corriente, así como sus tasas de flujo se muestran en la siguiente figura. Encuentre la tasa de flujo másico para cada corriente ($F_1, F_2, F_3$) que debe usarse para obtener una corriente de salida con la composición que se muestra en la figura (30% de A, 40% de B y 30% de C). Escriba el balance de masa para cada compuesto (A, B, C) y resuelva el sistema de ecuaciones algebraicas. "
   ]
  },
  {
   "cell_type": "markdown",
   "metadata": {},
   "source": [
    "![Tanque CSTR](Diagrama.png)"
   ]
  },
  {
   "cell_type": "markdown",
   "metadata": {},
   "source": [
    "Composiciones de cada especie involucrada"
   ]
  },
  {
   "cell_type": "code",
   "execution_count": 1,
   "metadata": {},
   "outputs": [
    {
     "data": {
      "text/plain": [
       "0.3"
      ]
     },
     "metadata": {},
     "output_type": "display_data"
    }
   ],
   "source": [
    "# Especie A\n",
    "xA1 = 0.5\n",
    "xA2 = 0.33\n",
    "xA4 = 0.3\n",
    "\n",
    "# Especie B  \n",
    "xB1 = 0.5 \n",
    "xB2 = 0.33 \n",
    "xB3 = 0.7\n",
    "xB4 = 0.4 \n",
    "\n",
    "# Especie C  \n",
    "xC2 = 0.34 \n",
    "xC3 = 0.3\n",
    "xC4 = 0.3 "
   ]
  },
  {
   "cell_type": "markdown",
   "metadata": {},
   "source": [
    "Flujo de salida"
   ]
  },
  {
   "cell_type": "code",
   "execution_count": 2,
   "metadata": {},
   "outputs": [
    {
     "data": {
      "text/plain": [
       "100"
      ]
     },
     "metadata": {},
     "output_type": "display_data"
    }
   ],
   "source": [
    "F4 = 100  # kg/min"
   ]
  },
  {
   "cell_type": "markdown",
   "metadata": {},
   "source": [
    "A partir de los balances por especie generamos nuestra matriz de composiciones así como el vector de salidas"
   ]
  },
  {
   "cell_type": "code",
   "execution_count": 3,
   "metadata": {},
   "outputs": [
    {
     "data": {
      "text/plain": [
       "3-element Vector{Float64}:\n",
       " 30.0\n",
       " 40.0\n",
       " 30.0"
      ]
     },
     "metadata": {},
     "output_type": "display_data"
    }
   ],
   "source": [
    "Composiciones_1= [xA1 xA2 0; xB1 xB2 xB3; 0 xC2 xC3]\n",
    "Salidas_1 = [xA4*F4; xB4*F4; xC4*F4]"
   ]
  },
  {
   "cell_type": "markdown",
   "metadata": {},
   "source": [
    "Para dar solución, podemos usar varios métodos utilizando la libreria LinearAlgebra. En nuestro caso lo resolveremos usando inversa."
   ]
  },
  {
   "cell_type": "code",
   "execution_count": 4,
   "metadata": {},
   "outputs": [
    {
     "data": {
      "text/plain": [
       "3-element Vector{Float64}:\n",
       " 10.084033613445385\n",
       " 75.63025210084034\n",
       " 14.285714285714285"
      ]
     },
     "metadata": {},
     "output_type": "display_data"
    }
   ],
   "source": [
    "using LinearAlgebra\n",
    "\n",
    "Sol = inv(Composiciones_1)*Salidas_1"
   ]
  },
  {
   "cell_type": "markdown",
   "metadata": {},
   "source": [
    "Finalmente solo aplicamos un formato"
   ]
  },
  {
   "cell_type": "code",
   "execution_count": 5,
   "metadata": {},
   "outputs": [
    {
     "name": "stdout",
     "output_type": "stream",
     "text": [
      "Alimentación F1: 10.084 kg/min\n",
      "Alimentación F2: 75.6303 kg/min\n",
      "Alimentación F3: 14.2857 kg/min\n"
     ]
    }
   ],
   "source": [
    "for k in eachindex(Sol)\n",
    "    println(\"Alimentación F\",k, \": \", round(Sol[k], digits=4), \" kg/min\")\n",
    "end"
   ]
  }
 ],
 "metadata": {
  "kernelspec": {
   "display_name": "Julia 1.8.0",
   "language": "julia",
   "name": "julia-1.8"
  },
  "language_info": {
   "file_extension": ".jl",
   "mimetype": "application/julia",
   "name": "julia",
   "version": "1.8.0"
  },
  "orig_nbformat": 4
 },
 "nbformat": 4,
 "nbformat_minor": 2
}
