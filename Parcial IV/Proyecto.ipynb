{
 "cells": [
  {
   "cell_type": "markdown",
   "metadata": {},
   "source": [
    "#### Proyecto: Tanque CSTR"
   ]
  },
  {
   "cell_type": "markdown",
   "metadata": {},
   "source": [
    "Imagine un tanque en el que se mezclan tres corrientes provenientes de diferentes partes de una planta química. Las fracciones de masa de los compuestos A, B y C en cada corriente, así como sus tasas de flujo se muestran en la siguiente figura. Encuentre la tasa de flujo másico para cada corriente ($F_1, F_2, F_3$) que debe usarse para obtener una corriente de salida con la composición que se muestra en la figura (30% de A, 40% de B y 30% de C). Escriba el balance de masa para cada compuesto (A, B, C) y resuelva el sistema de ecuaciones algebraicas. "
   ]
  },
  {
   "cell_type": "markdown",
   "metadata": {},
   "source": [
    "![Tanque CSTR](Diagrama.png)"
   ]
  },
  {
   "cell_type": "markdown",
   "metadata": {},
   "source": [
    "Composiciones de cada especie involucrada"
   ]
  },
  {
   "cell_type": "code",
   "execution_count": 1,
   "metadata": {},
   "outputs": [
    {
     "data": {
      "text/plain": [
       "0.3"
      ]
     },
     "execution_count": 1,
     "metadata": {},
     "output_type": "execute_result"
    }
   ],
   "source": [
    "# Especie A\n",
    "xA1 = 0.5\n",
    "xA2 = 0.33\n",
    "xA4 = 0.3\n",
    "\n",
    "# Especie B  \n",
    "xB1 = 0.5 \n",
    "xB2 = 0.33 \n",
    "xB3 = 0.7\n",
    "xB4 = 0.4 \n",
    "\n",
    "# Especie C  \n",
    "xC2 = 0.34 \n",
    "xC3 = 0.3\n",
    "xC4 = 0.3 "
   ]
  },
  {
   "cell_type": "markdown",
   "metadata": {},
   "source": [
    "Flujo de salida"
   ]
  },
  {
   "cell_type": "code",
   "execution_count": 2,
   "metadata": {},
   "outputs": [
    {
     "data": {
      "text/plain": [
       "100"
      ]
     },
     "execution_count": 2,
     "metadata": {},
     "output_type": "execute_result"
    }
   ],
   "source": [
    "F4 = 100  # kg/min"
   ]
  },
  {
   "cell_type": "markdown",
   "metadata": {},
   "source": [
    "A partir de los balances por especie generamos nuestra matriz de composiciones así como el vector de salidas"
   ]
  },
  {
   "cell_type": "code",
   "execution_count": 3,
   "metadata": {},
   "outputs": [
    {
     "data": {
      "text/plain": [
       "3-element Vector{Float64}:\n",
       " 30.0\n",
       " 40.0\n",
       " 30.0"
      ]
     },
     "execution_count": 3,
     "metadata": {},
     "output_type": "execute_result"
    }
   ],
   "source": [
    "Composiciones_1= [xA1 xA2 0; xB1 xB2 xB3; 0 xC2 xC3]\n",
    "Salidas_1 = [xA4*F4; xB4*F4; xC4*F4]"
   ]
  },
  {
   "cell_type": "markdown",
   "metadata": {},
   "source": [
    "Para dar solución, podemos usar varios métodos utilizando la libreria LinearAlgebra. En nuestro caso lo resolveremos usando inversa."
   ]
  },
  {
   "cell_type": "code",
   "execution_count": 4,
   "metadata": {},
   "outputs": [
    {
     "data": {
      "text/plain": [
       "3-element Vector{Float64}:\n",
       " 10.084033613445385\n",
       " 75.63025210084034\n",
       " 14.285714285714285"
      ]
     },
     "execution_count": 4,
     "metadata": {},
     "output_type": "execute_result"
    }
   ],
   "source": [
    "using LinearAlgebra\n",
    "\n",
    "Sol = inv(Composiciones_1)*Salidas_1"
   ]
  },
  {
   "cell_type": "markdown",
   "metadata": {},
   "source": [
    "Finalmente solo aplicamos un formato"
   ]
  },
  {
   "cell_type": "code",
   "execution_count": 5,
   "metadata": {},
   "outputs": [
    {
     "name": "stdout",
     "output_type": "stream",
     "text": [
      "Alimentación F1: 10.084 kg/min\n",
      "Alimentación F2: 75.6303 kg/min\n",
      "Alimentación F3: 14.2857 kg/min\n"
     ]
    }
   ],
   "source": [
    "for k in eachindex(Sol)\n",
    "    println(\"Alimentación F\",k, \": \", round(Sol[k], digits=4), \" kg/min\")\n",
    "end"
   ]
  },
  {
   "cell_type": "markdown",
   "metadata": {},
   "source": [
    "#### Modificación del proyecto"
   ]
  },
  {
   "cell_type": "markdown",
   "metadata": {},
   "source": [
    "Variando las concentraciones de A en la corriente 1 dese 0.4 a 0.6"
   ]
  },
  {
   "cell_type": "markdown",
   "metadata": {},
   "source": [
    "Paquetes utilizados"
   ]
  },
  {
   "cell_type": "code",
   "execution_count": 6,
   "metadata": {},
   "outputs": [],
   "source": [
    "using Distributions, PyPlot"
   ]
  },
  {
   "cell_type": "markdown",
   "metadata": {},
   "source": [
    "Aplicando una distribución uniforme en los valores indicados"
   ]
  },
  {
   "cell_type": "code",
   "execution_count": 7,
   "metadata": {},
   "outputs": [
    {
     "data": {
      "text/plain": [
       "Uniform{Float64}(a=0.4, b=0.6)"
      ]
     },
     "execution_count": 7,
     "metadata": {},
     "output_type": "execute_result"
    }
   ],
   "source": [
    "D = Uniform(0.4, 0.6)"
   ]
  },
  {
   "cell_type": "markdown",
   "metadata": {},
   "source": [
    "Generamos diez valores de composición de la especia A y ajustamos la composición de B"
   ]
  },
  {
   "cell_type": "code",
   "execution_count": 8,
   "metadata": {},
   "outputs": [
    {
     "data": {
      "text/plain": [
       "100"
      ]
     },
     "execution_count": 8,
     "metadata": {},
     "output_type": "execute_result"
    }
   ],
   "source": [
    "# Especie A\n",
    "Cantidad = 10\n",
    "xA1 = sort(rand(D, Cantidad))\n",
    "xA2 = 0.33\n",
    "xA4 = 0.3\n",
    "\n",
    "# Especie B\n",
    "xB1 = []\n",
    "for i in eachindex(xA1)\n",
    "    append!(xB1, 1 - xA1[i])\n",
    "end\n",
    "xB2 = 0.33 \n",
    "xB3 = 0.7\n",
    "xB4 = 0.4 \n",
    "\n",
    "# Especie C\n",
    "xC2 = 0.34 \n",
    "xC3 = 0.3\n",
    "xC4 = 0.3\n",
    "\n",
    "# Corriente 4\n",
    "F4 = 100  # kg/min"
   ]
  },
  {
   "cell_type": "markdown",
   "metadata": {},
   "source": [
    "Creamos vectores vacios donde se guardarán los datos obtenidos en cada iteración"
   ]
  },
  {
   "cell_type": "code",
   "execution_count": 9,
   "metadata": {},
   "outputs": [
    {
     "data": {
      "text/plain": [
       "Any[]"
      ]
     },
     "execution_count": 9,
     "metadata": {},
     "output_type": "execute_result"
    }
   ],
   "source": [
    "Soluciones = []\n",
    "F1 = []\n",
    "F2 = []\n",
    "F3 = []"
   ]
  },
  {
   "cell_type": "markdown",
   "metadata": {},
   "source": [
    "Finalmente, aplicamos un ciclo para generar cada escenario. El ciclo interno imprime cada escenario generado"
   ]
  },
  {
   "cell_type": "code",
   "execution_count": 10,
   "metadata": {},
   "outputs": [
    {
     "name": "stdout",
     "output_type": "stream",
     "text": [
      "\n",
      "------ Escenario 1-------\n",
      "Alimentación F1: 10.4247 kg/min\n",
      "Alimentación F2: 78.185 kg/min\n",
      "Alimentación F3: 11.3903 kg/min\n",
      "\n",
      "------ Escenario 2-------\n",
      "Alimentación F1: 10.3726 kg/min\n",
      "Alimentación F2: 77.7943 kg/min\n",
      "Alimentación F3: 11.8332 kg/min\n",
      "\n",
      "------ Escenario 3-------\n",
      "Alimentación F1: 10.3403 kg/min\n",
      "Alimentación F2: 77.5526 kg/min\n",
      "Alimentación F3: 12.1071 kg/min\n",
      "\n",
      "------ Escenario 4-------\n",
      "Alimentación F1: 10.209 kg/min\n",
      "Alimentación F2: 76.5674 kg/min\n",
      "Alimentación F3: 13.2236 kg/min\n",
      "\n",
      "------ Escenario 5-------\n",
      "Alimentación F1: 10.1056 kg/min\n",
      "Alimentación F2: 75.7921 kg/min\n",
      "Alimentación F3: 14.1023 kg/min\n",
      "\n",
      "------ Escenario 6-------\n",
      "Alimentación F1: 10.0791 kg/min\n",
      "Alimentación F2: 75.5933 kg/min\n",
      "Alimentación F3: 14.3276 kg/min\n",
      "\n",
      "------ Escenario 7-------\n",
      "Alimentación F1: 10.0635 kg/min\n",
      "Alimentación F2: 75.4762 kg/min\n",
      "Alimentación F3: 14.4603 kg/min\n",
      "\n",
      "------ Escenario 8-------\n",
      "Alimentación F1: 9.9912 kg/min\n",
      "Alimentación F2: 74.9337 kg/min\n",
      "Alimentación F3: 15.0751 kg/min\n",
      "\n",
      "------ Escenario 9-------\n",
      "Alimentación F1: 9.9895 kg/min\n",
      "Alimentación F2: 74.9211 kg/min\n",
      "Alimentación F3: 15.0894 kg/min\n",
      "\n",
      "------ Escenario 10-------\n",
      "Alimentación F1: 9.7733 kg/min\n",
      "Alimentación F2: 73.2999 kg/min\n",
      "Alimentación F3: 16.9268 kg/min\n"
     ]
    }
   ],
   "source": [
    "for i in eachindex(xA1)\n",
    "    # Generamos una matriz distinta para cada valor de xA1 y xB1\n",
    "    Composiciones = [xA1[i] xA2 0; xB1[i] xB2 xB3; 0 xC2 xC3]\n",
    "    # La matriz de soluciones se mantiene igual pues el cambio es a la entrada\n",
    "    Salidas = [xA4*F4; xB4*F4; xC4*F4]\n",
    "    # Resolvemos usando inversa\n",
    "    Sol = inv(Composiciones)*Salidas\n",
    "    # Agregamos cada resultado a su correspondiente clasificación\n",
    "    append!(F1, Sol[1])\n",
    "    append!(F2, Sol[2])\n",
    "    append!(F3, Sol[3])\n",
    "    # Imprimimos cada n escenarios generados\n",
    "    println(\"\\n------ Escenario \", i, \"-------\")\n",
    "    for k in eachindex(Sol)\n",
    "        println(\"Alimentación F\",k, \": \", round(Sol[k], digits=4), \" kg/min\")\n",
    "    end\n",
    "    # Agregamos las solucion obtenida al respectivo vector\n",
    "    append!(Soluciones, [Sol])\n",
    "end"
   ]
  },
  {
   "cell_type": "markdown",
   "metadata": {},
   "source": [
    "Peor y mejor escenario respecto a la variación en la composición"
   ]
  },
  {
   "cell_type": "code",
   "execution_count": 11,
   "metadata": {},
   "outputs": [
    {
     "name": "stdout",
     "output_type": "stream",
     "text": [
      "\n",
      "\n",
      "Peor Escenario\n",
      "Composición A: 0.4028\n",
      "Alimentación F1: 10.4247 kg/min\n",
      "Alimentación F2: 78.185 kg/min\n",
      "Alimentación F3: 11.3903 kg/min\n",
      "\n",
      "\n",
      " Mejor Escenario\n",
      "Composición A: 0.5946\n",
      "Alimentación F1: 9.7733 kg/min\n",
      "Alimentación F2: 73.2999 kg/min\n",
      "Alimentación F3: 16.9268 kg/min\n"
     ]
    }
   ],
   "source": [
    "Titulo = [\"Peor Escenario\", \" Mejor Escenario\"]\n",
    "Esc = [1, Cantidad]\n",
    "for i in eachindex(Esc)\n",
    "    println(\"\\n\\n\", Titulo[i])\n",
    "    println(\"Composición A: \", round(xA1[Esc[i]], digits=4))\n",
    "    println(\"Alimentación F1: \", round(F1[Esc[i]], digits=4), \" kg/min\")\n",
    "    println(\"Alimentación F2: \", round(F2[Esc[i]], digits=4), \" kg/min\")\n",
    "    println(\"Alimentación F3: \", round(F3[Esc[i]], digits=4), \" kg/min\")\n",
    "end"
   ]
  },
  {
   "cell_type": "markdown",
   "metadata": {},
   "source": [
    "Escenario promedio"
   ]
  },
  {
   "cell_type": "code",
   "execution_count": 12,
   "metadata": {},
   "outputs": [
    {
     "name": "stdout",
     "output_type": "stream",
     "text": [
      "Escenario promedio\n",
      "\n",
      "\n",
      "Composicion media de A: 0.4861\n",
      "Alimentación F1: 10.1349 kg/min\n",
      "Alimentación F2: 76.0116 kg/min\n",
      "Alimentación F3: 13.8536 kg/min\n"
     ]
    }
   ],
   "source": [
    "prom_xA1 = sum(xA1)/length(xA1)\n",
    "prom_F1 = sum(F1)/length(F1)\n",
    "prom_F2 = sum(F2)/length(F2)\n",
    "prom_F3 = sum(F3)/length(F3)\n",
    "println(\"Escenario promedio\")\n",
    "println(\"\\n\\nComposicion media de A: \", round(prom_xA1, digits=4))\n",
    "println(\"Alimentación F1: \", round(prom_F1, digits=4), \" kg/min\")\n",
    "println(\"Alimentación F2: \", round(prom_F2, digits=4), \" kg/min\")\n",
    "println(\"Alimentación F3: \", round(prom_F3, digits=4), \" kg/min\")"
   ]
  },
  {
   "cell_type": "markdown",
   "metadata": {},
   "source": [
    "Gráfico generado por cada variación"
   ]
  },
  {
   "cell_type": "code",
   "execution_count": 13,
   "metadata": {},
   "outputs": [
    {
     "data": {
      "image/png": "[encoded data removed]",
      "text/plain": [
       "Figure(PyObject <Figure size 640x480 with 3 Axes>)"
      ]
     },
     "metadata": {},
     "output_type": "display_data"
    },
    {
     "data": {
      "text/plain": [
       "PyObject Text(33.25, 0.5, 'Flujo másico F3 (kg/min)')"
      ]
     },
     "execution_count": 13,
     "metadata": {},
     "output_type": "execute_result"
    }
   ],
   "source": [
    "fig, axs = subplots(3)\n",
    "fig.suptitle(\"Variaciones de los flujos de alimentación\\nrespecto a la composicion de la especie A\")\n",
    "axs[1].scatter(xA1, F1, c=\"blue\")\n",
    "axs[1].set_ylabel(\"Flujo másico F1 (kg/min)\")\n",
    "\n",
    "axs[2].scatter(xA1, F2, c=\"red\")\n",
    "axs[2].set_ylabel(\"Flujo másico F2 (kg/min)\")\n",
    "\n",
    "axs[3].scatter(xA1, F3, c=\"green\")\n",
    "axs[3].set_xlabel(\"Composición de A en F1\")\n",
    "axs[3].set_ylabel(\"Flujo másico F3 (kg/min)\")"
   ]
  },
  {
   "cell_type": "markdown",
   "metadata": {},
   "source": [
    "Como podemos observar el aumento en la composición de A genera que se requiera menos flujo de $F_1$ y $F_2$ mientras que se vuelve necesario aumentar el correspondiente a $F_3$\n"
   ]
  }
 ],
 "metadata": {
  "kernelspec": {
   "display_name": "Julia 1.8.0",
   "language": "julia",
   "name": "julia-1.8"
  },
  "language_info": {
   "file_extension": ".jl",
   "mimetype": "application/julia",
   "name": "julia",
   "version": "1.8.0"
  },
  "orig_nbformat": 4
 },
 "nbformat": 4,
 "nbformat_minor": 2
}
