{
 "cells": [
  {
   "cell_type": "markdown",
   "metadata": {},
   "source": [
    "#### Tarea 06\n",
    "#### Martínez Quilo Juan Manuel"
   ]
  },
  {
   "cell_type": "markdown",
   "metadata": {},
   "source": [
    "La Tabla 1 muestra la cantidad de N2 y de hidrógeno adsorbidos por gramo de varias muestras. La\n",
    "adsorción de N2 se llevó a cabo a 77 K y la de H2 a 298 K. Los valores corresponden a la formación\n",
    "de monocapas. En el caso de la adsorción de N2, se supone que este compuesto experimenta\n",
    "fisisorción en toda la superficie. En cambio, los experimentos de quimisorción de H2 resultan en la\n",
    "disociación de este compuesto en átomos superficiales del metal. Puede suponerse que la relación\n",
    "estequiométrica entre átomos de H y átomos del metal es 1:1.\n",
    "La dispersión del metal puede definirse como la relación que hay entre el número de moles del\n",
    "metal presentes en la superficie y los moles totales de metal en la muestra. Recuerde que cada\n",
    "molécula de N2 ocupa una superficie de 0.162 nm2\n",
    ".\n",
    "\n",
    "Determine el área superficial por gramo de muestra, la dispersión del metal y el diámetro promedio\n",
    "de las partículas metálicas soportadas (suponiendo que son esféricas)."
   ]
  },
  {
   "cell_type": "markdown",
   "metadata": {},
   "source": []
  },
  {
   "cell_type": "markdown",
   "metadata": {},
   "source": [
    "![Tabla 1. Resultados de fisisorción de N2 y quimisorción de H2 en muestras de metales soportados.](Tare06.png)"
   ]
  },
  {
   "cell_type": "markdown",
   "metadata": {},
   "source": [
    "Datos proporcionados"
   ]
  },
  {
   "cell_type": "code",
   "execution_count": 1,
   "metadata": {},
   "outputs": [
    {
     "data": {
      "text/plain": [
       "1×4 Matrix{Float64}:\n",
       " 1.05  0.75  1.7  2.1"
      ]
     },
     "metadata": {},
     "output_type": "display_data"
    }
   ],
   "source": [
    "muestras =  [1.0 1.3 0.9 2.3] # contenido de metal \n",
    "v_monocapa_N2 = [4.2 5.10 76.5 7.3] # cm^3/g\n",
    "v_monocapa_H2 = [1.05 0.75 1.70 2.1] # cm^3/g"
   ]
  },
  {
   "cell_type": "markdown",
   "metadata": {},
   "source": [
    "Constantes importantes"
   ]
  },
  {
   "cell_type": "code",
   "execution_count": 2,
   "metadata": {},
   "outputs": [
    {
     "data": {
      "text/plain": [
       "298"
      ]
     },
     "metadata": {},
     "output_type": "display_data"
    }
   ],
   "source": [
    "# Area por cada molecula de N2\n",
    "A_molecula_N2 = 0.162*(1^2/(1e9)^2) #nm^2 --> m^2\n",
    "\n",
    "# Constante de los gases ideales \n",
    "R = 82.057 # cm^3*atm/mol*K\n",
    "\n",
    "# Número de avogrado \n",
    "NA = 6.022e23\n",
    "\n",
    "# Condiciones de experimentacion\n",
    "P = 1 # atm\n",
    "T_N2 = 77 # K\n",
    "T_H2 = 298 #K"
   ]
  },
  {
   "cell_type": "markdown",
   "metadata": {},
   "source": [
    "Dado que nos proporcionan un % p/p, usamos como base de calculo "
   ]
  },
  {
   "cell_type": "code",
   "execution_count": 3,
   "metadata": {},
   "outputs": [
    {
     "data": {
      "text/plain": [
       "1"
      ]
     },
     "metadata": {},
     "output_type": "display_data"
    }
   ],
   "source": [
    "base = 1 #g"
   ]
  },
  {
   "cell_type": "markdown",
   "metadata": {},
   "source": [
    "De la literatura[1] obtenemos el volumen ocupado por cada molecula así como el peso molecular"
   ]
  },
  {
   "cell_type": "code",
   "execution_count": 4,
   "metadata": {},
   "outputs": [
    {
     "data": {
      "text/plain": [
       "1×4 Matrix{Float64}:\n",
       " 102.906  195.085  58.6934  58.9332"
      ]
     },
     "metadata": {},
     "output_type": "display_data"
    }
   ],
   "source": [
    "volumen_atomos = [13.78 15.10 10.95 11.0].^3 # Amstrongs\n",
    "PM = [102.9055 195.0849 58.69340 58.933195] #g/mol"
   ]
  },
  {
   "cell_type": "markdown",
   "metadata": {},
   "source": [
    "Creamos la función $$n_m=\\frac{P\\cdot V_m}{R\\cdot T}$$\n",
    "que nos permitira calcular el número de moles ingresando como variables el volumen de la monocapa así como la temperatura a la que se trabaja, pudiendo cambiar entre la utilizada con el $N_2$ o el $H_2$"
   ]
  },
  {
   "cell_type": "code",
   "execution_count": 5,
   "metadata": {},
   "outputs": [
    {
     "data": {
      "text/plain": [
       "moles (generic function with 1 method)"
      ]
     },
     "metadata": {},
     "output_type": "display_data"
    }
   ],
   "source": [
    "moles(Vm, T) = (P*Vm)/(R*T)"
   ]
  },
  {
   "cell_type": "markdown",
   "metadata": {},
   "source": [
    "Creamos vectores vacios donde se estarán almacenando nuestros resultados"
   ]
  },
  {
   "cell_type": "code",
   "execution_count": 6,
   "metadata": {},
   "outputs": [
    {
     "data": {
      "text/plain": [
       "Any[]"
      ]
     },
     "metadata": {},
     "output_type": "display_data"
    }
   ],
   "source": [
    "g_muestras = [] # g\n",
    "A_N2 = [] #m^2\n",
    "Dispersion = [] # %\n",
    "d_prom = [] # amstrong"
   ]
  },
  {
   "cell_type": "markdown",
   "metadata": {},
   "source": [
    "Generamos el ciclo que nos permitira realizar los cálculos de forma iterativa bajo siguiente el orden: \n",
    "1. La cantidad de metal en la muestra usando la base de cálculo\n",
    "2. El área superficial de la muestra usando como base la medición de nitrogeno\n",
    "3. El porcentaje de dispersión de la molecula metálica en la muestra correspondiente\n",
    "4. El diametro promedio de las particulas métalicas soportadas"
   ]
  },
  {
   "cell_type": "code",
   "execution_count": 7,
   "metadata": {},
   "outputs": [],
   "source": [
    "for i in eachindex(v_monocapa_N2)\n",
    "    # Gramos de muestra\n",
    "    g_cal = base*muestras[i]/100\n",
    "    append!(g_muestras, round(g_cal, digits=4))\n",
    "\n",
    "    # Area superficial\n",
    "    moles_N2 = moles(v_monocapa_N2[i], T_N2)\n",
    "    #append!(molesN2, moles_N2)\n",
    "    moleculas_N2 = moles_N2*NA\n",
    "    area_N2 = moleculas_N2*A_molecula_N2\n",
    "    append!(A_N2, round(area_N2, digits = 4))\n",
    "\n",
    "    # Dispersión\n",
    "    moles_H2 = moles(v_monocapa_H2[i], T_H2)\n",
    "    D_cal = 2*moles_H2*PM[i]/g_muestras[i]*100\n",
    "    append!(Dispersion, round(D_cal, digits=4))\n",
    "\n",
    "    # Diametro promedio de particulas\n",
    "    d_cal = (3*volumen_atomos[i])/(2*A_N2)\n",
    "    append!(d_prom, d_cal)\n",
    "end"
   ]
  },
  {
   "cell_type": "markdown",
   "metadata": {},
   "source": [
    "Finalmente, mostramos nuestros valores cálculados"
   ]
  },
  {
   "cell_type": "markdown",
   "metadata": {},
   "source": []
  },
  {
   "cell_type": "code",
   "execution_count": 9,
   "metadata": {},
   "outputs": [
    {
     "name": "stdout",
     "output_type": "stream",
     "text": [
      "\n",
      "\n",
      "------Rh/Al2O3------\n",
      "\n",
      "Área superficial: 64.8483 m^2\n",
      "Porcentaje de dispersion: 88.3743 %\n",
      "Diametro promedio: 60.52576903326688Amstrongs\n",
      "\n",
      "\n",
      "------Pt/TiO2------\n",
      "\n",
      "Área superficial: 78.7444 m^2\n",
      "Porcentaje de dispersion: 92.0534 %\n",
      "Diametro promedio: 32.18382094874904Amstrongs\n",
      "\n",
      "\n",
      "------Ni/UiO-66------\n",
      "\n",
      "Área superficial: 1181.1657 m^2\n",
      "Porcentaje de dispersion: 90.6763 %\n",
      "Diametro promedio: 39.08037173398029Amstrongs\n",
      "\n",
      "\n",
      "------Co/ZrO2------\n",
      "\n",
      "Área superficial: 112.7125 m^2\n",
      "Porcentaje de dispersion: 44.0098 %\n",
      "Diametro promedio: 0.09086221490348041Amstrongs\n"
     ]
    }
   ],
   "source": [
    "Muestra = [\"Rh/Al2O3\", \"Pt/TiO2\", \"Ni/UiO-66\", \"Co/ZrO2\"]\n",
    "for i in eachindex(muestras)\n",
    "    println(\"\\n\")\n",
    "    println(\"------\", Muestra[i], \"------\")\n",
    "    println(\"\\nÁrea superficial: \", A_N2[i],\" m^2\")\n",
    "    println(\"Porcentaje de dispersion: \", Dispersion[i], \" %\")\n",
    "    println(\"Diametro promedio: \", d_prom[i], \"Amstrongs\")\n",
    "end"
   ]
  }
 ],
 "metadata": {
  "kernelspec": {
   "display_name": "Julia 1.8.0",
   "language": "julia",
   "name": "julia-1.8"
  },
  "language_info": {
   "file_extension": ".jl",
   "mimetype": "application/julia",
   "name": "julia",
   "version": "1.8.0"
  },
  "orig_nbformat": 4
 },
 "nbformat": 4,
 "nbformat_minor": 2
}
